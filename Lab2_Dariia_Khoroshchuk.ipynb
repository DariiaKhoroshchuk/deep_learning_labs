{
  "cells": [
    {
      "cell_type": "markdown",
      "metadata": {
        "id": "view-in-github",
        "colab_type": "text"
      },
      "source": [
        "<a href=\"https://colab.research.google.com/github/DariiaKhoroshchuk/deep_learning_labs/blob/master/Lab2_Dariia_Khoroshchuk.ipynb\" target=\"_parent\"><img src=\"https://colab.research.google.com/assets/colab-badge.svg\" alt=\"Open In Colab\"/></a>"
      ]
    },
    {
      "cell_type": "code",
      "execution_count": null,
      "metadata": {
        "colab": {
          "base_uri": "https://localhost:8080/"
        },
        "id": "4_vCZSeK9on2",
        "outputId": "a8d41bba-7e62-43fa-edde-26feff0a17f8"
      },
      "outputs": [
        {
          "output_type": "stream",
          "name": "stdout",
          "text": [
            "Mounted at /content/drive\n"
          ]
        }
      ],
      "source": [
        "from google.colab import drive\n",
        "drive.mount('/content/drive')"
      ]
    },
    {
      "cell_type": "code",
      "execution_count": null,
      "metadata": {
        "id": "XV6hVLGx-EhS"
      },
      "outputs": [],
      "source": [
        "!cd /content/drive/MyDrive/AIS/DL/2022-23/practice/Lab2"
      ]
    },
    {
      "cell_type": "code",
      "execution_count": null,
      "metadata": {
        "colab": {
          "base_uri": "https://localhost:8080/"
        },
        "id": "HAhgcJ_u-QPH",
        "outputId": "19dd48cd-9e1f-4ad9-b789-f0f6c74495a8"
      },
      "outputs": [
        {
          "name": "stdout",
          "output_type": "stream",
          "text": [
            "Archive:  /content/drive/MyDrive/AIS/DL/2022-23/practice/Lab2/test.csv.zip\n",
            "  inflating: /content/drive/MyDrive/AIS/DL/2022-23/practice/Lab2/reports/Khoroshchuk-12/test.csv/__MACOSX/._test.csv  \n",
            "  inflating: /content/drive/MyDrive/AIS/DL/2022-23/practice/Lab2/reports/Khoroshchuk-12/test.csv/test.csv  \n"
          ]
        }
      ],
      "source": [
        "!unzip -u \"/content/drive/MyDrive/AIS/DL/2022-23/practice/Lab2/test.csv.zip\" -d \"/content/drive/MyDrive/AIS/DL/2022-23/practice/Lab2/reports/Khoroshchuk-12/test.csv\""
      ]
    },
    {
      "cell_type": "code",
      "execution_count": null,
      "metadata": {
        "colab": {
          "base_uri": "https://localhost:8080/"
        },
        "id": "PxsrTYZV_LAX",
        "outputId": "8a55bc9f-86a1-4e25-b273-79abb456bc19"
      },
      "outputs": [
        {
          "name": "stdout",
          "output_type": "stream",
          "text": [
            "Archive:  /content/drive/MyDrive/AIS/DL/2022-23/practice/Lab2/train.csv.zip\n",
            "  inflating: /content/drive/MyDrive/AIS/DL/2022-23/practice/Lab2/reports/Khoroshchuk-12/train.csv/train.csv  \n"
          ]
        }
      ],
      "source": [
        "!unzip -u \"/content/drive/MyDrive/AIS/DL/2022-23/practice/Lab2/train.csv.zip\" -d \"/content/drive/MyDrive/AIS/DL/2022-23/practice/Lab2/reports/Khoroshchuk-12/train.csv\""
      ]
    },
    {
      "cell_type": "code",
      "execution_count": null,
      "metadata": {
        "colab": {
          "base_uri": "https://localhost:8080/"
        },
        "id": "mm8HWxCj_RjB",
        "outputId": "468e0d7b-e77f-4a95-cea4-766f2722dc6e"
      },
      "outputs": [
        {
          "name": "stdout",
          "output_type": "stream",
          "text": [
            "test.csv  train.csv\n"
          ]
        }
      ],
      "source": [
        "!ls /content/drive/MyDrive/AIS/DL/2022-23/practice/Lab2/reports/Khoroshchuk-12/"
      ]
    },
    {
      "cell_type": "markdown",
      "metadata": {
        "id": "W2trqEZDe5wY"
      },
      "source": [
        "**Task 1.1**"
      ]
    },
    {
      "cell_type": "code",
      "execution_count": null,
      "metadata": {
        "id": "x8HQzfEC9IQc"
      },
      "outputs": [],
      "source": [
        "import numpy as np\n",
        "import pandas as pd\n",
        "import seaborn as sns\n",
        "import matplotlib.pyplot as plt\n",
        "import warnings\n",
        "warnings.filterwarnings('ignore')\n",
        "\n",
        "from sklearn.metrics import confusion_matrix\n",
        "import itertools\n",
        "from keras.utils.np_utils import to_categorical # convert to one-hot-encoding\n",
        "from keras.models import Sequential\n",
        "from keras.layers import Dense, Dropout, Flatten, Conv2D, MaxPool2D, BatchNormalization, AveragePooling2D\n",
        "from keras.optimizers import RMSprop,Adam, SGD\n",
        "from keras.preprocessing.image import ImageDataGenerator\n",
        "from keras.callbacks import ReduceLROnPlateau\n",
        "from keras.callbacks import EarlyStopping"
      ]
    },
    {
      "cell_type": "code",
      "execution_count": null,
      "metadata": {
        "colab": {
          "base_uri": "https://localhost:8080/",
          "height": 317
        },
        "id": "-vtk2Bza9fGY",
        "outputId": "0e130fc9-d761-4a92-da9c-c039f9d2dde3"
      },
      "outputs": [
        {
          "output_type": "stream",
          "name": "stdout",
          "text": [
            "(42000, 785)\n"
          ]
        },
        {
          "output_type": "execute_result",
          "data": {
            "text/plain": [
              "   label  pixel0  pixel1  pixel2  pixel3  pixel4  pixel5  pixel6  pixel7  \\\n",
              "0      1       0       0       0       0       0       0       0       0   \n",
              "1      0       0       0       0       0       0       0       0       0   \n",
              "2      1       0       0       0       0       0       0       0       0   \n",
              "3      4       0       0       0       0       0       0       0       0   \n",
              "4      0       0       0       0       0       0       0       0       0   \n",
              "\n",
              "   pixel8  ...  pixel774  pixel775  pixel776  pixel777  pixel778  pixel779  \\\n",
              "0       0  ...         0         0         0         0         0         0   \n",
              "1       0  ...         0         0         0         0         0         0   \n",
              "2       0  ...         0         0         0         0         0         0   \n",
              "3       0  ...         0         0         0         0         0         0   \n",
              "4       0  ...         0         0         0         0         0         0   \n",
              "\n",
              "   pixel780  pixel781  pixel782  pixel783  \n",
              "0         0         0         0         0  \n",
              "1         0         0         0         0  \n",
              "2         0         0         0         0  \n",
              "3         0         0         0         0  \n",
              "4         0         0         0         0  \n",
              "\n",
              "[5 rows x 785 columns]"
            ],
            "text/html": [
              "\n",
              "  <div id=\"df-d7c0d0b1-b807-4a9b-817a-4d5ccfbcb868\">\n",
              "    <div class=\"colab-df-container\">\n",
              "      <div>\n",
              "<style scoped>\n",
              "    .dataframe tbody tr th:only-of-type {\n",
              "        vertical-align: middle;\n",
              "    }\n",
              "\n",
              "    .dataframe tbody tr th {\n",
              "        vertical-align: top;\n",
              "    }\n",
              "\n",
              "    .dataframe thead th {\n",
              "        text-align: right;\n",
              "    }\n",
              "</style>\n",
              "<table border=\"1\" class=\"dataframe\">\n",
              "  <thead>\n",
              "    <tr style=\"text-align: right;\">\n",
              "      <th></th>\n",
              "      <th>label</th>\n",
              "      <th>pixel0</th>\n",
              "      <th>pixel1</th>\n",
              "      <th>pixel2</th>\n",
              "      <th>pixel3</th>\n",
              "      <th>pixel4</th>\n",
              "      <th>pixel5</th>\n",
              "      <th>pixel6</th>\n",
              "      <th>pixel7</th>\n",
              "      <th>pixel8</th>\n",
              "      <th>...</th>\n",
              "      <th>pixel774</th>\n",
              "      <th>pixel775</th>\n",
              "      <th>pixel776</th>\n",
              "      <th>pixel777</th>\n",
              "      <th>pixel778</th>\n",
              "      <th>pixel779</th>\n",
              "      <th>pixel780</th>\n",
              "      <th>pixel781</th>\n",
              "      <th>pixel782</th>\n",
              "      <th>pixel783</th>\n",
              "    </tr>\n",
              "  </thead>\n",
              "  <tbody>\n",
              "    <tr>\n",
              "      <th>0</th>\n",
              "      <td>1</td>\n",
              "      <td>0</td>\n",
              "      <td>0</td>\n",
              "      <td>0</td>\n",
              "      <td>0</td>\n",
              "      <td>0</td>\n",
              "      <td>0</td>\n",
              "      <td>0</td>\n",
              "      <td>0</td>\n",
              "      <td>0</td>\n",
              "      <td>...</td>\n",
              "      <td>0</td>\n",
              "      <td>0</td>\n",
              "      <td>0</td>\n",
              "      <td>0</td>\n",
              "      <td>0</td>\n",
              "      <td>0</td>\n",
              "      <td>0</td>\n",
              "      <td>0</td>\n",
              "      <td>0</td>\n",
              "      <td>0</td>\n",
              "    </tr>\n",
              "    <tr>\n",
              "      <th>1</th>\n",
              "      <td>0</td>\n",
              "      <td>0</td>\n",
              "      <td>0</td>\n",
              "      <td>0</td>\n",
              "      <td>0</td>\n",
              "      <td>0</td>\n",
              "      <td>0</td>\n",
              "      <td>0</td>\n",
              "      <td>0</td>\n",
              "      <td>0</td>\n",
              "      <td>...</td>\n",
              "      <td>0</td>\n",
              "      <td>0</td>\n",
              "      <td>0</td>\n",
              "      <td>0</td>\n",
              "      <td>0</td>\n",
              "      <td>0</td>\n",
              "      <td>0</td>\n",
              "      <td>0</td>\n",
              "      <td>0</td>\n",
              "      <td>0</td>\n",
              "    </tr>\n",
              "    <tr>\n",
              "      <th>2</th>\n",
              "      <td>1</td>\n",
              "      <td>0</td>\n",
              "      <td>0</td>\n",
              "      <td>0</td>\n",
              "      <td>0</td>\n",
              "      <td>0</td>\n",
              "      <td>0</td>\n",
              "      <td>0</td>\n",
              "      <td>0</td>\n",
              "      <td>0</td>\n",
              "      <td>...</td>\n",
              "      <td>0</td>\n",
              "      <td>0</td>\n",
              "      <td>0</td>\n",
              "      <td>0</td>\n",
              "      <td>0</td>\n",
              "      <td>0</td>\n",
              "      <td>0</td>\n",
              "      <td>0</td>\n",
              "      <td>0</td>\n",
              "      <td>0</td>\n",
              "    </tr>\n",
              "    <tr>\n",
              "      <th>3</th>\n",
              "      <td>4</td>\n",
              "      <td>0</td>\n",
              "      <td>0</td>\n",
              "      <td>0</td>\n",
              "      <td>0</td>\n",
              "      <td>0</td>\n",
              "      <td>0</td>\n",
              "      <td>0</td>\n",
              "      <td>0</td>\n",
              "      <td>0</td>\n",
              "      <td>...</td>\n",
              "      <td>0</td>\n",
              "      <td>0</td>\n",
              "      <td>0</td>\n",
              "      <td>0</td>\n",
              "      <td>0</td>\n",
              "      <td>0</td>\n",
              "      <td>0</td>\n",
              "      <td>0</td>\n",
              "      <td>0</td>\n",
              "      <td>0</td>\n",
              "    </tr>\n",
              "    <tr>\n",
              "      <th>4</th>\n",
              "      <td>0</td>\n",
              "      <td>0</td>\n",
              "      <td>0</td>\n",
              "      <td>0</td>\n",
              "      <td>0</td>\n",
              "      <td>0</td>\n",
              "      <td>0</td>\n",
              "      <td>0</td>\n",
              "      <td>0</td>\n",
              "      <td>0</td>\n",
              "      <td>...</td>\n",
              "      <td>0</td>\n",
              "      <td>0</td>\n",
              "      <td>0</td>\n",
              "      <td>0</td>\n",
              "      <td>0</td>\n",
              "      <td>0</td>\n",
              "      <td>0</td>\n",
              "      <td>0</td>\n",
              "      <td>0</td>\n",
              "      <td>0</td>\n",
              "    </tr>\n",
              "  </tbody>\n",
              "</table>\n",
              "<p>5 rows × 785 columns</p>\n",
              "</div>\n",
              "      <button class=\"colab-df-convert\" onclick=\"convertToInteractive('df-d7c0d0b1-b807-4a9b-817a-4d5ccfbcb868')\"\n",
              "              title=\"Convert this dataframe to an interactive table.\"\n",
              "              style=\"display:none;\">\n",
              "        \n",
              "  <svg xmlns=\"http://www.w3.org/2000/svg\" height=\"24px\"viewBox=\"0 0 24 24\"\n",
              "       width=\"24px\">\n",
              "    <path d=\"M0 0h24v24H0V0z\" fill=\"none\"/>\n",
              "    <path d=\"M18.56 5.44l.94 2.06.94-2.06 2.06-.94-2.06-.94-.94-2.06-.94 2.06-2.06.94zm-11 1L8.5 8.5l.94-2.06 2.06-.94-2.06-.94L8.5 2.5l-.94 2.06-2.06.94zm10 10l.94 2.06.94-2.06 2.06-.94-2.06-.94-.94-2.06-.94 2.06-2.06.94z\"/><path d=\"M17.41 7.96l-1.37-1.37c-.4-.4-.92-.59-1.43-.59-.52 0-1.04.2-1.43.59L10.3 9.45l-7.72 7.72c-.78.78-.78 2.05 0 2.83L4 21.41c.39.39.9.59 1.41.59.51 0 1.02-.2 1.41-.59l7.78-7.78 2.81-2.81c.8-.78.8-2.07 0-2.86zM5.41 20L4 18.59l7.72-7.72 1.47 1.35L5.41 20z\"/>\n",
              "  </svg>\n",
              "      </button>\n",
              "      \n",
              "  <style>\n",
              "    .colab-df-container {\n",
              "      display:flex;\n",
              "      flex-wrap:wrap;\n",
              "      gap: 12px;\n",
              "    }\n",
              "\n",
              "    .colab-df-convert {\n",
              "      background-color: #E8F0FE;\n",
              "      border: none;\n",
              "      border-radius: 50%;\n",
              "      cursor: pointer;\n",
              "      display: none;\n",
              "      fill: #1967D2;\n",
              "      height: 32px;\n",
              "      padding: 0 0 0 0;\n",
              "      width: 32px;\n",
              "    }\n",
              "\n",
              "    .colab-df-convert:hover {\n",
              "      background-color: #E2EBFA;\n",
              "      box-shadow: 0px 1px 2px rgba(60, 64, 67, 0.3), 0px 1px 3px 1px rgba(60, 64, 67, 0.15);\n",
              "      fill: #174EA6;\n",
              "    }\n",
              "\n",
              "    [theme=dark] .colab-df-convert {\n",
              "      background-color: #3B4455;\n",
              "      fill: #D2E3FC;\n",
              "    }\n",
              "\n",
              "    [theme=dark] .colab-df-convert:hover {\n",
              "      background-color: #434B5C;\n",
              "      box-shadow: 0px 1px 3px 1px rgba(0, 0, 0, 0.15);\n",
              "      filter: drop-shadow(0px 1px 2px rgba(0, 0, 0, 0.3));\n",
              "      fill: #FFFFFF;\n",
              "    }\n",
              "  </style>\n",
              "\n",
              "      <script>\n",
              "        const buttonEl =\n",
              "          document.querySelector('#df-d7c0d0b1-b807-4a9b-817a-4d5ccfbcb868 button.colab-df-convert');\n",
              "        buttonEl.style.display =\n",
              "          google.colab.kernel.accessAllowed ? 'block' : 'none';\n",
              "\n",
              "        async function convertToInteractive(key) {\n",
              "          const element = document.querySelector('#df-d7c0d0b1-b807-4a9b-817a-4d5ccfbcb868');\n",
              "          const dataTable =\n",
              "            await google.colab.kernel.invokeFunction('convertToInteractive',\n",
              "                                                     [key], {});\n",
              "          if (!dataTable) return;\n",
              "\n",
              "          const docLinkHtml = 'Like what you see? Visit the ' +\n",
              "            '<a target=\"_blank\" href=https://colab.research.google.com/notebooks/data_table.ipynb>data table notebook</a>'\n",
              "            + ' to learn more about interactive tables.';\n",
              "          element.innerHTML = '';\n",
              "          dataTable['output_type'] = 'display_data';\n",
              "          await google.colab.output.renderOutput(dataTable, element);\n",
              "          const docLink = document.createElement('div');\n",
              "          docLink.innerHTML = docLinkHtml;\n",
              "          element.appendChild(docLink);\n",
              "        }\n",
              "      </script>\n",
              "    </div>\n",
              "  </div>\n",
              "  "
            ]
          },
          "metadata": {},
          "execution_count": 3
        }
      ],
      "source": [
        "# load train dataset\n",
        "train = pd.read_csv(\"/content/drive/MyDrive/AIS/DL/2022-23/practice/Lab2/reports/Khoroshchuk-12/train.csv/train.csv\")\n",
        "print(train.shape)\n",
        "train.head()"
      ]
    },
    {
      "cell_type": "code",
      "execution_count": null,
      "metadata": {
        "colab": {
          "base_uri": "https://localhost:8080/",
          "height": 317
        },
        "id": "ALjGRGsIAS6E",
        "outputId": "4f622ed1-c9ec-4b43-a4c8-e3c55d667324"
      },
      "outputs": [
        {
          "output_type": "stream",
          "name": "stdout",
          "text": [
            "(28000, 784)\n"
          ]
        },
        {
          "output_type": "execute_result",
          "data": {
            "text/plain": [
              "   pixel0  pixel1  pixel2  pixel3  pixel4  pixel5  pixel6  pixel7  pixel8  \\\n",
              "0       0       0       0       0       0       0       0       0       0   \n",
              "1       0       0       0       0       0       0       0       0       0   \n",
              "2       0       0       0       0       0       0       0       0       0   \n",
              "3       0       0       0       0       0       0       0       0       0   \n",
              "4       0       0       0       0       0       0       0       0       0   \n",
              "\n",
              "   pixel9  ...  pixel774  pixel775  pixel776  pixel777  pixel778  pixel779  \\\n",
              "0       0  ...         0         0         0         0         0         0   \n",
              "1       0  ...         0         0         0         0         0         0   \n",
              "2       0  ...         0         0         0         0         0         0   \n",
              "3       0  ...         0         0         0         0         0         0   \n",
              "4       0  ...         0         0         0         0         0         0   \n",
              "\n",
              "   pixel780  pixel781  pixel782  pixel783  \n",
              "0         0         0         0         0  \n",
              "1         0         0         0         0  \n",
              "2         0         0         0         0  \n",
              "3         0         0         0         0  \n",
              "4         0         0         0         0  \n",
              "\n",
              "[5 rows x 784 columns]"
            ],
            "text/html": [
              "\n",
              "  <div id=\"df-7ff06b2a-cf52-40b4-8a78-97122d697186\">\n",
              "    <div class=\"colab-df-container\">\n",
              "      <div>\n",
              "<style scoped>\n",
              "    .dataframe tbody tr th:only-of-type {\n",
              "        vertical-align: middle;\n",
              "    }\n",
              "\n",
              "    .dataframe tbody tr th {\n",
              "        vertical-align: top;\n",
              "    }\n",
              "\n",
              "    .dataframe thead th {\n",
              "        text-align: right;\n",
              "    }\n",
              "</style>\n",
              "<table border=\"1\" class=\"dataframe\">\n",
              "  <thead>\n",
              "    <tr style=\"text-align: right;\">\n",
              "      <th></th>\n",
              "      <th>pixel0</th>\n",
              "      <th>pixel1</th>\n",
              "      <th>pixel2</th>\n",
              "      <th>pixel3</th>\n",
              "      <th>pixel4</th>\n",
              "      <th>pixel5</th>\n",
              "      <th>pixel6</th>\n",
              "      <th>pixel7</th>\n",
              "      <th>pixel8</th>\n",
              "      <th>pixel9</th>\n",
              "      <th>...</th>\n",
              "      <th>pixel774</th>\n",
              "      <th>pixel775</th>\n",
              "      <th>pixel776</th>\n",
              "      <th>pixel777</th>\n",
              "      <th>pixel778</th>\n",
              "      <th>pixel779</th>\n",
              "      <th>pixel780</th>\n",
              "      <th>pixel781</th>\n",
              "      <th>pixel782</th>\n",
              "      <th>pixel783</th>\n",
              "    </tr>\n",
              "  </thead>\n",
              "  <tbody>\n",
              "    <tr>\n",
              "      <th>0</th>\n",
              "      <td>0</td>\n",
              "      <td>0</td>\n",
              "      <td>0</td>\n",
              "      <td>0</td>\n",
              "      <td>0</td>\n",
              "      <td>0</td>\n",
              "      <td>0</td>\n",
              "      <td>0</td>\n",
              "      <td>0</td>\n",
              "      <td>0</td>\n",
              "      <td>...</td>\n",
              "      <td>0</td>\n",
              "      <td>0</td>\n",
              "      <td>0</td>\n",
              "      <td>0</td>\n",
              "      <td>0</td>\n",
              "      <td>0</td>\n",
              "      <td>0</td>\n",
              "      <td>0</td>\n",
              "      <td>0</td>\n",
              "      <td>0</td>\n",
              "    </tr>\n",
              "    <tr>\n",
              "      <th>1</th>\n",
              "      <td>0</td>\n",
              "      <td>0</td>\n",
              "      <td>0</td>\n",
              "      <td>0</td>\n",
              "      <td>0</td>\n",
              "      <td>0</td>\n",
              "      <td>0</td>\n",
              "      <td>0</td>\n",
              "      <td>0</td>\n",
              "      <td>0</td>\n",
              "      <td>...</td>\n",
              "      <td>0</td>\n",
              "      <td>0</td>\n",
              "      <td>0</td>\n",
              "      <td>0</td>\n",
              "      <td>0</td>\n",
              "      <td>0</td>\n",
              "      <td>0</td>\n",
              "      <td>0</td>\n",
              "      <td>0</td>\n",
              "      <td>0</td>\n",
              "    </tr>\n",
              "    <tr>\n",
              "      <th>2</th>\n",
              "      <td>0</td>\n",
              "      <td>0</td>\n",
              "      <td>0</td>\n",
              "      <td>0</td>\n",
              "      <td>0</td>\n",
              "      <td>0</td>\n",
              "      <td>0</td>\n",
              "      <td>0</td>\n",
              "      <td>0</td>\n",
              "      <td>0</td>\n",
              "      <td>...</td>\n",
              "      <td>0</td>\n",
              "      <td>0</td>\n",
              "      <td>0</td>\n",
              "      <td>0</td>\n",
              "      <td>0</td>\n",
              "      <td>0</td>\n",
              "      <td>0</td>\n",
              "      <td>0</td>\n",
              "      <td>0</td>\n",
              "      <td>0</td>\n",
              "    </tr>\n",
              "    <tr>\n",
              "      <th>3</th>\n",
              "      <td>0</td>\n",
              "      <td>0</td>\n",
              "      <td>0</td>\n",
              "      <td>0</td>\n",
              "      <td>0</td>\n",
              "      <td>0</td>\n",
              "      <td>0</td>\n",
              "      <td>0</td>\n",
              "      <td>0</td>\n",
              "      <td>0</td>\n",
              "      <td>...</td>\n",
              "      <td>0</td>\n",
              "      <td>0</td>\n",
              "      <td>0</td>\n",
              "      <td>0</td>\n",
              "      <td>0</td>\n",
              "      <td>0</td>\n",
              "      <td>0</td>\n",
              "      <td>0</td>\n",
              "      <td>0</td>\n",
              "      <td>0</td>\n",
              "    </tr>\n",
              "    <tr>\n",
              "      <th>4</th>\n",
              "      <td>0</td>\n",
              "      <td>0</td>\n",
              "      <td>0</td>\n",
              "      <td>0</td>\n",
              "      <td>0</td>\n",
              "      <td>0</td>\n",
              "      <td>0</td>\n",
              "      <td>0</td>\n",
              "      <td>0</td>\n",
              "      <td>0</td>\n",
              "      <td>...</td>\n",
              "      <td>0</td>\n",
              "      <td>0</td>\n",
              "      <td>0</td>\n",
              "      <td>0</td>\n",
              "      <td>0</td>\n",
              "      <td>0</td>\n",
              "      <td>0</td>\n",
              "      <td>0</td>\n",
              "      <td>0</td>\n",
              "      <td>0</td>\n",
              "    </tr>\n",
              "  </tbody>\n",
              "</table>\n",
              "<p>5 rows × 784 columns</p>\n",
              "</div>\n",
              "      <button class=\"colab-df-convert\" onclick=\"convertToInteractive('df-7ff06b2a-cf52-40b4-8a78-97122d697186')\"\n",
              "              title=\"Convert this dataframe to an interactive table.\"\n",
              "              style=\"display:none;\">\n",
              "        \n",
              "  <svg xmlns=\"http://www.w3.org/2000/svg\" height=\"24px\"viewBox=\"0 0 24 24\"\n",
              "       width=\"24px\">\n",
              "    <path d=\"M0 0h24v24H0V0z\" fill=\"none\"/>\n",
              "    <path d=\"M18.56 5.44l.94 2.06.94-2.06 2.06-.94-2.06-.94-.94-2.06-.94 2.06-2.06.94zm-11 1L8.5 8.5l.94-2.06 2.06-.94-2.06-.94L8.5 2.5l-.94 2.06-2.06.94zm10 10l.94 2.06.94-2.06 2.06-.94-2.06-.94-.94-2.06-.94 2.06-2.06.94z\"/><path d=\"M17.41 7.96l-1.37-1.37c-.4-.4-.92-.59-1.43-.59-.52 0-1.04.2-1.43.59L10.3 9.45l-7.72 7.72c-.78.78-.78 2.05 0 2.83L4 21.41c.39.39.9.59 1.41.59.51 0 1.02-.2 1.41-.59l7.78-7.78 2.81-2.81c.8-.78.8-2.07 0-2.86zM5.41 20L4 18.59l7.72-7.72 1.47 1.35L5.41 20z\"/>\n",
              "  </svg>\n",
              "      </button>\n",
              "      \n",
              "  <style>\n",
              "    .colab-df-container {\n",
              "      display:flex;\n",
              "      flex-wrap:wrap;\n",
              "      gap: 12px;\n",
              "    }\n",
              "\n",
              "    .colab-df-convert {\n",
              "      background-color: #E8F0FE;\n",
              "      border: none;\n",
              "      border-radius: 50%;\n",
              "      cursor: pointer;\n",
              "      display: none;\n",
              "      fill: #1967D2;\n",
              "      height: 32px;\n",
              "      padding: 0 0 0 0;\n",
              "      width: 32px;\n",
              "    }\n",
              "\n",
              "    .colab-df-convert:hover {\n",
              "      background-color: #E2EBFA;\n",
              "      box-shadow: 0px 1px 2px rgba(60, 64, 67, 0.3), 0px 1px 3px 1px rgba(60, 64, 67, 0.15);\n",
              "      fill: #174EA6;\n",
              "    }\n",
              "\n",
              "    [theme=dark] .colab-df-convert {\n",
              "      background-color: #3B4455;\n",
              "      fill: #D2E3FC;\n",
              "    }\n",
              "\n",
              "    [theme=dark] .colab-df-convert:hover {\n",
              "      background-color: #434B5C;\n",
              "      box-shadow: 0px 1px 3px 1px rgba(0, 0, 0, 0.15);\n",
              "      filter: drop-shadow(0px 1px 2px rgba(0, 0, 0, 0.3));\n",
              "      fill: #FFFFFF;\n",
              "    }\n",
              "  </style>\n",
              "\n",
              "      <script>\n",
              "        const buttonEl =\n",
              "          document.querySelector('#df-7ff06b2a-cf52-40b4-8a78-97122d697186 button.colab-df-convert');\n",
              "        buttonEl.style.display =\n",
              "          google.colab.kernel.accessAllowed ? 'block' : 'none';\n",
              "\n",
              "        async function convertToInteractive(key) {\n",
              "          const element = document.querySelector('#df-7ff06b2a-cf52-40b4-8a78-97122d697186');\n",
              "          const dataTable =\n",
              "            await google.colab.kernel.invokeFunction('convertToInteractive',\n",
              "                                                     [key], {});\n",
              "          if (!dataTable) return;\n",
              "\n",
              "          const docLinkHtml = 'Like what you see? Visit the ' +\n",
              "            '<a target=\"_blank\" href=https://colab.research.google.com/notebooks/data_table.ipynb>data table notebook</a>'\n",
              "            + ' to learn more about interactive tables.';\n",
              "          element.innerHTML = '';\n",
              "          dataTable['output_type'] = 'display_data';\n",
              "          await google.colab.output.renderOutput(dataTable, element);\n",
              "          const docLink = document.createElement('div');\n",
              "          docLink.innerHTML = docLinkHtml;\n",
              "          element.appendChild(docLink);\n",
              "        }\n",
              "      </script>\n",
              "    </div>\n",
              "  </div>\n",
              "  "
            ]
          },
          "metadata": {},
          "execution_count": 4
        }
      ],
      "source": [
        "# load test dataset\n",
        "test= pd.read_csv(\"/content/drive/MyDrive/AIS/DL/2022-23/practice/Lab2/reports/Khoroshchuk-12/test.csv/test.csv\")\n",
        "print(test.shape)\n",
        "test.head()"
      ]
    },
    {
      "cell_type": "code",
      "execution_count": null,
      "metadata": {
        "colab": {
          "base_uri": "https://localhost:8080/",
          "height": 649
        },
        "id": "L7UPsU7gAjIw",
        "outputId": "625d4c2f-7a1e-452f-d19c-46a9fab05f46"
      },
      "outputs": [
        {
          "output_type": "execute_result",
          "data": {
            "text/plain": [
              "1    4684\n",
              "7    4401\n",
              "3    4351\n",
              "9    4188\n",
              "2    4177\n",
              "6    4137\n",
              "0    4132\n",
              "4    4072\n",
              "8    4063\n",
              "5    3795\n",
              "Name: label, dtype: int64"
            ]
          },
          "metadata": {},
          "execution_count": 5
        },
        {
          "output_type": "display_data",
          "data": {
            "text/plain": [
              "<Figure size 1080x504 with 1 Axes>"
            ],
            "image/png": "[encoded data removed]"
          },
          "metadata": {
            "needs_background": "light"
          }
        }
      ],
      "source": [
        "# put labels into y_train variable\n",
        "Y_train = train[\"label\"]\n",
        "\n",
        "# Drop 'label' column\n",
        "X_train = train.drop(labels = [\"label\"], axis = 1)\n",
        "\n",
        "# visualize number of digits classes\n",
        "plt.figure(figsize=(15,7))\n",
        "g = sns.countplot(x=Y_train, palette=\"icefire\")\n",
        "plt.title(\"Number of digit classes\")\n",
        "Y_train.value_counts()"
      ]
    },
    {
      "cell_type": "code",
      "execution_count": null,
      "metadata": {
        "colab": {
          "base_uri": "https://localhost:8080/",
          "height": 264
        },
        "id": "W3Kchd-XA_KU",
        "outputId": "d1baf031-888c-40e5-efd2-a6d40017ea63"
      },
      "outputs": [
        {
          "output_type": "display_data",
          "data": {
            "text/plain": [
              "<Figure size 432x288 with 1 Axes>"
            ],
            "image/png": "[encoded data removed]"
          },
          "metadata": {
            "needs_background": "light"
          }
        }
      ],
      "source": [
        "# plot some samples\n",
        "img = X_train.iloc[0].to_numpy()\n",
        "img = img.reshape((28,28))\n",
        "plt.imshow(img,cmap='gray')\n",
        "plt.title(train.iloc[0,0])\n",
        "plt.axis(\"off\")\n",
        "plt.show()"
      ]
    },
    {
      "cell_type": "code",
      "execution_count": null,
      "metadata": {
        "colab": {
          "base_uri": "https://localhost:8080/",
          "height": 264
        },
        "id": "UG-XKiAcBCKi",
        "outputId": "c98aa1f0-1b37-47cc-b8be-19301cb6d441"
      },
      "outputs": [
        {
          "output_type": "display_data",
          "data": {
            "text/plain": [
              "<Figure size 432x288 with 1 Axes>"
            ],
            "image/png": "[encoded data removed]"
          },
          "metadata": {
            "needs_background": "light"
          }
        }
      ],
      "source": [
        "# plot some samples\n",
        "img = X_train.iloc[3].to_numpy()\n",
        "img = img.reshape((28,28))\n",
        "plt.imshow(img,cmap='gray')\n",
        "plt.title(train.iloc[3,0])\n",
        "plt.axis(\"off\")\n",
        "plt.show()"
      ]
    },
    {
      "cell_type": "markdown",
      "metadata": {
        "id": "RjFvqkF0CJwp"
      },
      "source": [
        "**Нормалізація (Normalization)**\n",
        "\n",
        "Ми виконуємо нормалізацію градацій сірого, щоб зменшити ефект різниці\n",
        "освітленості. Якщо ми виконуємо нормалізацію CNN буде працювати швидше.\n",
        "Під нормалізацією розуміється приведення значень матриці зображень в діапазон від 0 до 1. Оскільки в нас Зображення в градаціях сірого ми маємо діапазон від 0 до 255."
      ]
    },
    {
      "cell_type": "code",
      "execution_count": null,
      "metadata": {
        "colab": {
          "base_uri": "https://localhost:8080/"
        },
        "id": "xOOwKhesBF4T",
        "outputId": "966d237c-84f9-49d6-d710-39053482dde4"
      },
      "outputs": [
        {
          "output_type": "stream",
          "name": "stdout",
          "text": [
            "x_train shape:  (42000, 784)\n",
            "test shape:  (28000, 784)\n"
          ]
        }
      ],
      "source": [
        "# Normalize the data\n",
        "X_train = X_train / 255.0\n",
        "test = test / 255.0\n",
        "print(\"x_train shape: \",X_train.shape)\n",
        "print(\"test shape: \",test.shape)"
      ]
    },
    {
      "cell_type": "markdown",
      "metadata": {
        "id": "Do9NUnsuCf3Q"
      },
      "source": [
        "**Трансформація в тензори (Reshape)**\n",
        "\n",
        "Для опрацювання зображень в глибоких конволюційних мережах використовуються\n",
        "операції конволюції і пулінга, які вимагають перетворення векторів / матриць в тензори.\n",
        "Таким чином тренувальні та тестові зображення, які мають розмірність (28 x 28) мають бути перетворені в тензори розмірністю 28x28x1 (3D matrices)\n",
        "\n",
        "Третя розмірність відповідає каналам зображень. Наші зображення мають масштаб сірого, тому вони використовують лише один канал."
      ]
    },
    {
      "cell_type": "code",
      "execution_count": null,
      "metadata": {
        "colab": {
          "base_uri": "https://localhost:8080/"
        },
        "id": "RD1n1SH4CfGh",
        "outputId": "6db9a12f-d1e4-44f3-ef8e-67de8af96c3b"
      },
      "outputs": [
        {
          "output_type": "stream",
          "name": "stdout",
          "text": [
            "x_train shape:  (42000, 28, 28, 1)\n",
            "test shape:  (28000, 28, 28, 1)\n"
          ]
        }
      ],
      "source": [
        "# Reshape\n",
        "X_train = X_train.values.reshape(-1,28,28,1)\n",
        "test = test.values.reshape(-1,28,28,1)\n",
        "print(\"x_train shape: \",X_train.shape)\n",
        "print(\"test shape: \",test.shape)"
      ]
    },
    {
      "cell_type": "markdown",
      "metadata": {
        "id": "Cn3Q9rGwW4dj"
      },
      "source": [
        "**Формування векторів виходів (Label Encoding)**\n",
        "\n",
        "Для формування векторів виходів використаємо one-hot кодування яке є утілітою\n",
        "в keras, наприклад\n",
        "2 => [0,0,1,0,0,0,0,0,0,0]\n",
        "4 => [0,0,0,0,1,0,0,0,0,0]"
      ]
    },
    {
      "cell_type": "code",
      "execution_count": null,
      "metadata": {
        "colab": {
          "base_uri": "https://localhost:8080/"
        },
        "id": "0SKJ4A7_CWmm",
        "outputId": "b5338b2c-fb35-45d3-e311-7b60f4489cb4"
      },
      "outputs": [
        {
          "output_type": "stream",
          "name": "stdout",
          "text": [
            "[[0. 1. 0. ... 0. 0. 0.]\n",
            " [1. 0. 0. ... 0. 0. 0.]\n",
            " [0. 1. 0. ... 0. 0. 0.]\n",
            " ...\n",
            " [0. 0. 0. ... 1. 0. 0.]\n",
            " [0. 0. 0. ... 0. 0. 0.]\n",
            " [0. 0. 0. ... 0. 0. 1.]]\n"
          ]
        }
      ],
      "source": [
        "# Label Encoding\n",
        "from keras.utils.np_utils import to_categorical # convert to one-hot-encoding\n",
        "Y_train = to_categorical(Y_train, num_classes = 10)\n",
        "print(Y_train)"
      ]
    },
    {
      "cell_type": "markdown",
      "metadata": {
        "id": "W7dAWT1-XGq8"
      },
      "source": [
        "**Розбиття на train, val**"
      ]
    },
    {
      "cell_type": "code",
      "execution_count": null,
      "metadata": {
        "colab": {
          "base_uri": "https://localhost:8080/"
        },
        "id": "FbuoHPwZXBqs",
        "outputId": "3f5d73f0-3bf3-4efa-db89-1e00e52f212f"
      },
      "outputs": [
        {
          "output_type": "stream",
          "name": "stdout",
          "text": [
            "x_train shape (37800, 28, 28, 1)\n",
            "x_test shape (4200, 28, 28, 1)\n",
            "y_train shape (37800, 10)\n",
            "y_test shape (4200, 10)\n"
          ]
        }
      ],
      "source": [
        "# Split the train and the validation set for the fitting\n",
        "from sklearn.model_selection import train_test_split\n",
        "X_train, X_val, Y_train, Y_val = train_test_split(X_train, Y_train, \n",
        "                                                  test_size = 0.1, \n",
        "                                                  random_state=2)\n",
        "print(\"x_train shape\",X_train.shape)\n",
        "print(\"x_test shape\",X_val.shape)\n",
        "print(\"y_train shape\",Y_train.shape)\n",
        "print(\"y_test shape\",Y_val.shape)"
      ]
    },
    {
      "cell_type": "code",
      "execution_count": null,
      "metadata": {
        "colab": {
          "base_uri": "https://localhost:8080/",
          "height": 265
        },
        "id": "IgLTSiloXQ32",
        "outputId": "fb1a5fe2-29e6-406f-ce5d-9f30a764d17d"
      },
      "outputs": [
        {
          "output_type": "display_data",
          "data": {
            "text/plain": [
              "<Figure size 432x288 with 1 Axes>"
            ],
            "image/png": "[encoded data removed]"
          },
          "metadata": {
            "needs_background": "light"
          }
        }
      ],
      "source": [
        "# Some examples\n",
        "plt.imshow(X_train[2][:,:,0],cmap='gray')\n",
        "plt.show()"
      ]
    },
    {
      "cell_type": "code",
      "execution_count": null,
      "metadata": {
        "id": "aSgq7xE5z99c"
      },
      "outputs": [],
      "source": [
        "# data augmentation\n",
        "datagen = ImageDataGenerator(\n",
        "featurewise_center=False, # set input mean to 0 over the dataset\n",
        "samplewise_center=False, # set each sample mean to 0\n",
        "featurewise_std_normalization=False, # divide inputs by std of the dataset\n",
        "samplewise_std_normalization=False, # divide each input by its std\n",
        "zca_whitening=False, # dimesion reduction\n",
        "rotation_range=5, # randomly rotate images in the range 5 degrees\n",
        "zoom_range = 0.2, # Randomly zoom image 5%\n",
        "width_shift_range=0.2, # randomly shift images horizontally 5%\n",
        "height_shift_range=0.2, # randomly shift images vertically 5%\n",
        "horizontal_flip=False, # randomly flip images\n",
        "vertical_flip=False) # randomly flip images\n",
        "datagen.fit(X_train)"
      ]
    },
    {
      "cell_type": "code",
      "execution_count": null,
      "metadata": {
        "id": "KvaZd1GRYgSe"
      },
      "outputs": [],
      "source": [
        "def model_1(optimizer = Adam(lr=0.001, beta_1=0.9, beta_2=0.999), kernel_size = [(5,5), (3, 3)]):\n",
        "  \n",
        "  model = Sequential()\n",
        "\n",
        "  model.add(Conv2D(filters = 8, kernel_size = kernel_size[0], padding = 'Same',\n",
        "                   activation ='relu', input_shape = (28,28,1)))\n",
        "  model.add(MaxPool2D(pool_size=(2,2)))\n",
        "  model.add(Dropout(0.25))\n",
        "\n",
        "  model.add(Conv2D(filters = 16, kernel_size = kernel_size[1], padding = 'Same',\n",
        "                   activation ='relu'))\n",
        "  model.add(MaxPool2D(pool_size=(2,2), strides=(2,2)))\n",
        "  model.add(Dropout(0.25))\n",
        "\n",
        "  # fully connected\n",
        "  model.add(Flatten())\n",
        "  model.add(Dense(256, activation = \"relu\"))\n",
        "  model.add(Dropout(0.5))\n",
        "  model.add(Dense(10, activation = \"softmax\"))\n",
        "\n",
        "  # Compile the model\n",
        "  model.compile(optimizer = optimizer , loss = \"categorical_crossentropy\", \n",
        "                metrics=[\"accuracy\"])\n",
        "  \n",
        "  return model"
      ]
    },
    {
      "cell_type": "code",
      "execution_count": null,
      "metadata": {
        "id": "CrS9fJrKdodi"
      },
      "outputs": [],
      "source": [
        "def results_visualization(history):\n",
        "  fig = plt.figure(figsize=(15, 5))\n",
        "  ax1= fig.add_subplot(1,2,1)\n",
        "  ax2= fig.add_subplot(1,2,2)\n",
        "\n",
        "  ax1.plot(history.history['val_loss'], color='b', label=\"validation loss\")\n",
        "  ax1.plot(history.history['loss'], color='g', label=\"loss\")\n",
        "  ax1.set_title(\"Loss\")\n",
        "\n",
        "  ax1.set_xlabel(\"Number of Epochs\")\n",
        "  ax1.set_ylabel(\"Loss\")\n",
        "  ax1.legend()\n",
        "\n",
        "  ax2.plot(history.history['val_accuracy'], color='b', label=\"validation accuracy\")\n",
        "  ax2.plot(history.history['accuracy'], color='g', label=\"accuracy\")\n",
        "  ax2.set_title(\"Accuracy\")\n",
        "\n",
        "  ax2.set_xlabel(\"Number of Epochs\")\n",
        "  ax2.set_ylabel(\"Accuracy\")\n",
        "  ax2.legend()\n",
        "  plt.show()"
      ]
    },
    {
      "cell_type": "code",
      "execution_count": null,
      "metadata": {
        "id": "17CGJfVtZ0xs"
      },
      "outputs": [],
      "source": [
        "model = model_1()"
      ]
    },
    {
      "cell_type": "code",
      "execution_count": null,
      "metadata": {
        "id": "WB9TBHBzz8Op"
      },
      "outputs": [],
      "source": [
        "epochs = 100 # for better result increase the epochs\n",
        "batch_size = 250\n",
        "\n",
        "early_stopping = EarlyStopping(verbose=1, patience=3)"
      ]
    },
    {
      "cell_type": "code",
      "execution_count": null,
      "metadata": {
        "colab": {
          "base_uri": "https://localhost:8080/"
        },
        "id": "sn3y2XWA0WN4",
        "outputId": "c504fd00-7bdc-46a5-cbdd-516c25bd5559"
      },
      "outputs": [
        {
          "name": "stdout",
          "output_type": "stream",
          "text": [
            "Epoch 1/100\n",
            "151/151 [==============================] - 32s 203ms/step - loss: 1.5860 - accuracy: 0.4470 - val_loss: 0.4560 - val_accuracy: 0.8919\n",
            "Epoch 2/100\n",
            "151/151 [==============================] - 30s 196ms/step - loss: 0.7295 - accuracy: 0.7670 - val_loss: 0.2563 - val_accuracy: 0.9338\n",
            "Epoch 3/100\n",
            "151/151 [==============================] - 28s 187ms/step - loss: 0.5541 - accuracy: 0.8239 - val_loss: 0.1989 - val_accuracy: 0.9483\n",
            "Epoch 4/100\n",
            "151/151 [==============================] - 32s 214ms/step - loss: 0.4686 - accuracy: 0.8522 - val_loss: 0.1623 - val_accuracy: 0.9557\n",
            "Epoch 5/100\n",
            "151/151 [==============================] - 30s 200ms/step - loss: 0.4164 - accuracy: 0.8713 - val_loss: 0.1451 - val_accuracy: 0.9619\n",
            "Epoch 6/100\n",
            "151/151 [==============================] - 30s 200ms/step - loss: 0.3850 - accuracy: 0.8798 - val_loss: 0.1299 - val_accuracy: 0.9652\n",
            "Epoch 7/100\n",
            "151/151 [==============================] - 28s 183ms/step - loss: 0.3518 - accuracy: 0.8924 - val_loss: 0.1129 - val_accuracy: 0.9712\n",
            "Epoch 8/100\n",
            "151/151 [==============================] - 29s 193ms/step - loss: 0.3266 - accuracy: 0.8998 - val_loss: 0.1016 - val_accuracy: 0.9721\n",
            "Epoch 9/100\n",
            "151/151 [==============================] - 32s 213ms/step - loss: 0.3085 - accuracy: 0.9032 - val_loss: 0.0985 - val_accuracy: 0.9731\n",
            "Epoch 10/100\n",
            "151/151 [==============================] - 30s 200ms/step - loss: 0.2867 - accuracy: 0.9119 - val_loss: 0.0920 - val_accuracy: 0.9743\n",
            "Epoch 11/100\n",
            "151/151 [==============================] - 30s 200ms/step - loss: 0.2757 - accuracy: 0.9149 - val_loss: 0.0823 - val_accuracy: 0.9755\n",
            "Epoch 12/100\n",
            "151/151 [==============================] - 30s 196ms/step - loss: 0.2721 - accuracy: 0.9179 - val_loss: 0.0804 - val_accuracy: 0.9760\n",
            "Epoch 13/100\n",
            "151/151 [==============================] - 30s 199ms/step - loss: 0.2651 - accuracy: 0.9179 - val_loss: 0.0772 - val_accuracy: 0.9764\n",
            "Epoch 14/100\n",
            "151/151 [==============================] - 30s 200ms/step - loss: 0.2502 - accuracy: 0.9232 - val_loss: 0.0747 - val_accuracy: 0.9776\n",
            "Epoch 15/100\n",
            "151/151 [==============================] - 30s 200ms/step - loss: 0.2441 - accuracy: 0.9260 - val_loss: 0.0765 - val_accuracy: 0.9760\n",
            "Epoch 16/100\n",
            "151/151 [==============================] - 28s 186ms/step - loss: 0.2376 - accuracy: 0.9293 - val_loss: 0.0693 - val_accuracy: 0.9798\n",
            "Epoch 17/100\n",
            "151/151 [==============================] - 30s 200ms/step - loss: 0.2271 - accuracy: 0.9301 - val_loss: 0.0734 - val_accuracy: 0.9788\n",
            "Epoch 18/100\n",
            "151/151 [==============================] - 30s 200ms/step - loss: 0.2228 - accuracy: 0.9315 - val_loss: 0.0710 - val_accuracy: 0.9786\n",
            "Epoch 19/100\n",
            "151/151 [==============================] - 28s 185ms/step - loss: 0.2242 - accuracy: 0.9335 - val_loss: 0.0633 - val_accuracy: 0.9812\n",
            "Epoch 20/100\n",
            "151/151 [==============================] - 30s 198ms/step - loss: 0.2108 - accuracy: 0.9350 - val_loss: 0.0662 - val_accuracy: 0.9795\n",
            "Epoch 21/100\n",
            "151/151 [==============================] - 30s 200ms/step - loss: 0.2145 - accuracy: 0.9340 - val_loss: 0.0607 - val_accuracy: 0.9805\n",
            "Epoch 22/100\n",
            "151/151 [==============================] - 28s 186ms/step - loss: 0.2063 - accuracy: 0.9369 - val_loss: 0.0615 - val_accuracy: 0.9819\n",
            "Epoch 23/100\n",
            "151/151 [==============================] - 28s 186ms/step - loss: 0.1994 - accuracy: 0.9396 - val_loss: 0.0585 - val_accuracy: 0.9821\n",
            "Epoch 24/100\n",
            "151/151 [==============================] - 28s 186ms/step - loss: 0.2032 - accuracy: 0.9373 - val_loss: 0.0553 - val_accuracy: 0.9824\n",
            "Epoch 25/100\n",
            "151/151 [==============================] - 31s 201ms/step - loss: 0.1895 - accuracy: 0.9424 - val_loss: 0.0566 - val_accuracy: 0.9817\n",
            "Epoch 26/100\n",
            "151/151 [==============================] - 30s 200ms/step - loss: 0.1897 - accuracy: 0.9418 - val_loss: 0.0605 - val_accuracy: 0.9819\n",
            "Epoch 27/100\n",
            "151/151 [==============================] - 28s 186ms/step - loss: 0.1939 - accuracy: 0.9421 - val_loss: 0.0538 - val_accuracy: 0.9836\n",
            "Epoch 28/100\n",
            "151/151 [==============================] - 30s 200ms/step - loss: 0.1821 - accuracy: 0.9435 - val_loss: 0.0513 - val_accuracy: 0.9852\n",
            "Epoch 29/100\n",
            "151/151 [==============================] - 30s 200ms/step - loss: 0.1860 - accuracy: 0.9436 - val_loss: 0.0512 - val_accuracy: 0.9845\n",
            "Epoch 30/100\n",
            "151/151 [==============================] - 32s 215ms/step - loss: 0.1840 - accuracy: 0.9447 - val_loss: 0.0538 - val_accuracy: 0.9838\n",
            "Epoch 31/100\n",
            "151/151 [==============================] - 30s 200ms/step - loss: 0.1765 - accuracy: 0.9461 - val_loss: 0.0496 - val_accuracy: 0.9845\n",
            "Epoch 32/100\n",
            "151/151 [==============================] - 28s 186ms/step - loss: 0.1779 - accuracy: 0.9466 - val_loss: 0.0482 - val_accuracy: 0.9850\n",
            "Epoch 33/100\n",
            "151/151 [==============================] - 28s 187ms/step - loss: 0.1740 - accuracy: 0.9459 - val_loss: 0.0510 - val_accuracy: 0.9845\n",
            "Epoch 34/100\n",
            "151/151 [==============================] - 30s 200ms/step - loss: 0.1767 - accuracy: 0.9471 - val_loss: 0.0514 - val_accuracy: 0.9845\n",
            "Epoch 35/100\n",
            "151/151 [==============================] - 32s 214ms/step - loss: 0.1774 - accuracy: 0.9465 - val_loss: 0.0543 - val_accuracy: 0.9836\n",
            "Epoch 35: early stopping\n"
          ]
        }
      ],
      "source": [
        "# Fit the model\n",
        "history = model.fit_generator(datagen.flow(X_train,Y_train, \n",
        "                                           batch_size=batch_size), \n",
        "                              epochs = epochs, \n",
        "                              callbacks = [early_stopping],\n",
        "                              validation_data = (X_val,Y_val),\n",
        "                              steps_per_epoch=X_train.shape[0] // batch_size)"
      ]
    },
    {
      "cell_type": "code",
      "execution_count": null,
      "metadata": {
        "colab": {
          "base_uri": "https://localhost:8080/",
          "height": 350
        },
        "id": "1rRK-WpqeK2C",
        "outputId": "f2ffc0ac-e611-42bd-d339-a3bba3b83efd"
      },
      "outputs": [
        {
          "data": {
            "image/png": "[encoded data removed]",
            "text/plain": [
              "<Figure size 1080x360 with 2 Axes>"
            ]
          },
          "metadata": {},
          "output_type": "display_data"
        }
      ],
      "source": [
        "results_visualization(history)"
      ]
    },
    {
      "cell_type": "code",
      "execution_count": null,
      "metadata": {
        "colab": {
          "base_uri": "https://localhost:8080/",
          "height": 295
        },
        "id": "QtOxg01n01zX",
        "outputId": "469d98da-fd55-451a-ed2d-011d43294f58"
      },
      "outputs": [
        {
          "data": {
            "image/png": "[encoded data removed]",
            "text/plain": [
              "<Figure size 432x288 with 1 Axes>"
            ]
          },
          "metadata": {},
          "output_type": "display_data"
        }
      ],
      "source": [
        "# Plot the loss and accuracy curves for training and validation\n",
        "plt.plot(history.history['val_loss'], color='b', label=\"validation loss\")\n",
        "plt.title(\"Test Loss\")\n",
        "plt.xlabel(\"Number of Epochs\")\n",
        "\n",
        "plt.ylabel(\"Loss\")\n",
        "plt.legend()\n",
        "plt.show()"
      ]
    },
    {
      "cell_type": "code",
      "execution_count": null,
      "metadata": {
        "colab": {
          "base_uri": "https://localhost:8080/"
        },
        "id": "N9WhNacr06yK",
        "outputId": "4b606123-ca40-4462-9543-ac9467c5969f"
      },
      "outputs": [
        {
          "name": "stdout",
          "output_type": "stream",
          "text": [
            "132/132 [==============================] - 1s 8ms/step\n"
          ]
        }
      ],
      "source": [
        "# confusion matrix\n",
        "import seaborn as sns\n",
        "# Predict the values from the validation dataset\n",
        "Y_pred = model.predict(X_val)"
      ]
    },
    {
      "cell_type": "code",
      "execution_count": null,
      "metadata": {
        "colab": {
          "base_uri": "https://localhost:8080/",
          "height": 513
        },
        "id": "WlTRcAnh0-SB",
        "outputId": "3bca5b27-187b-477f-ea52-6c5ebcb1d5c3"
      },
      "outputs": [
        {
          "data": {
            "image/png": "[encoded data removed]",
            "text/plain": [
              "<Figure size 576x576 with 2 Axes>"
            ]
          },
          "metadata": {},
          "output_type": "display_data"
        }
      ],
      "source": [
        "# Convert predictions classes to one hot vectors\n",
        "Y_pred_classes = np.argmax(Y_pred,axis = 1)\n",
        "# Convert validation observations to one hot vectors\n",
        "Y_true = np.argmax(Y_val,axis = 1)\n",
        "# compute the confusion matrix\n",
        "confusion_mtx = confusion_matrix(Y_true, Y_pred_classes)\n",
        "# plot the confusion matrix\n",
        "f,ax = plt.subplots(figsize=(8, 8))\n",
        "sns.heatmap(confusion_mtx, annot=True,\n",
        "linewidths=0.01,cmap=\"Blues\",linecolor=\"gray\", fmt= '.1f',ax=ax)\n",
        "plt.xlabel(\"Predicted Label\")\n",
        "plt.ylabel(\"True Label\")\n",
        "plt.title(\"Confusion Matrix\")\n",
        "plt.show()"
      ]
    },
    {
      "cell_type": "markdown",
      "metadata": {
        "id": "eH5MCHcoeyDp"
      },
      "source": [
        "**Task 1.2**"
      ]
    },
    {
      "cell_type": "code",
      "execution_count": null,
      "metadata": {
        "id": "ZlsAvlCdevlm"
      },
      "outputs": [],
      "source": [
        "model_2 = model_1(optimizer = SGD(learning_rate = 0.01, momentum = 0.8))"
      ]
    },
    {
      "cell_type": "code",
      "execution_count": null,
      "metadata": {
        "id": "0U-4nnyapecU"
      },
      "outputs": [],
      "source": [
        "epochs = 100 # for better result increase the epochs\n",
        "batch_size = 250\n",
        "\n",
        "early_stopping = EarlyStopping(verbose=1, patience=3)"
      ]
    },
    {
      "cell_type": "code",
      "execution_count": null,
      "metadata": {
        "colab": {
          "base_uri": "https://localhost:8080/"
        },
        "id": "4zfE2hv0pkYL",
        "outputId": "aac196c4-99a3-40e0-eb04-e5185dc443d9"
      },
      "outputs": [
        {
          "name": "stdout",
          "output_type": "stream",
          "text": [
            "Epoch 1/100\n",
            "151/151 [==============================] - 33s 215ms/step - loss: 2.2917 - accuracy: 0.1277 - val_loss: 2.2268 - val_accuracy: 0.3310\n",
            "Epoch 2/100\n",
            "151/151 [==============================] - 35s 229ms/step - loss: 2.1525 - accuracy: 0.2346 - val_loss: 1.5615 - val_accuracy: 0.6879\n",
            "Epoch 3/100\n",
            "151/151 [==============================] - 35s 228ms/step - loss: 1.6992 - accuracy: 0.4036 - val_loss: 0.8552 - val_accuracy: 0.8152\n",
            "Epoch 4/100\n",
            "151/151 [==============================] - 34s 223ms/step - loss: 1.3151 - accuracy: 0.5485 - val_loss: 0.6505 - val_accuracy: 0.8474\n",
            "Epoch 5/100\n",
            "151/151 [==============================] - 35s 229ms/step - loss: 1.0596 - accuracy: 0.6453 - val_loss: 0.4961 - val_accuracy: 0.8838\n",
            "Epoch 6/100\n",
            "151/151 [==============================] - 34s 227ms/step - loss: 0.8961 - accuracy: 0.7035 - val_loss: 0.4297 - val_accuracy: 0.9014\n",
            "Epoch 7/100\n",
            "151/151 [==============================] - 34s 227ms/step - loss: 0.7963 - accuracy: 0.7411 - val_loss: 0.3548 - val_accuracy: 0.9150\n",
            "Epoch 8/100\n",
            "151/151 [==============================] - 34s 227ms/step - loss: 0.7220 - accuracy: 0.7663 - val_loss: 0.3290 - val_accuracy: 0.9226\n",
            "Epoch 9/100\n",
            "151/151 [==============================] - 35s 229ms/step - loss: 0.6635 - accuracy: 0.7884 - val_loss: 0.3145 - val_accuracy: 0.9205\n",
            "Epoch 10/100\n",
            "151/151 [==============================] - 35s 228ms/step - loss: 0.6254 - accuracy: 0.8017 - val_loss: 0.2726 - val_accuracy: 0.9314\n",
            "Epoch 11/100\n",
            "151/151 [==============================] - 35s 229ms/step - loss: 0.5836 - accuracy: 0.8151 - val_loss: 0.2328 - val_accuracy: 0.9381\n",
            "Epoch 12/100\n",
            "151/151 [==============================] - 32s 212ms/step - loss: 0.5643 - accuracy: 0.8197 - val_loss: 0.2511 - val_accuracy: 0.9314\n",
            "Epoch 13/100\n",
            "151/151 [==============================] - 37s 247ms/step - loss: 0.5293 - accuracy: 0.8332 - val_loss: 0.2061 - val_accuracy: 0.9505\n",
            "Epoch 14/100\n",
            "151/151 [==============================] - 49s 320ms/step - loss: 0.5101 - accuracy: 0.8379 - val_loss: 0.2032 - val_accuracy: 0.9481\n",
            "Epoch 15/100\n",
            "151/151 [==============================] - 51s 335ms/step - loss: 0.4920 - accuracy: 0.8440 - val_loss: 0.1851 - val_accuracy: 0.9517\n",
            "Epoch 16/100\n",
            "151/151 [==============================] - 43s 285ms/step - loss: 0.4792 - accuracy: 0.8475 - val_loss: 0.1793 - val_accuracy: 0.9524\n",
            "Epoch 17/100\n",
            "151/151 [==============================] - 37s 246ms/step - loss: 0.4668 - accuracy: 0.8542 - val_loss: 0.1878 - val_accuracy: 0.9481\n",
            "Epoch 18/100\n",
            "151/151 [==============================] - 42s 280ms/step - loss: 0.4515 - accuracy: 0.8583 - val_loss: 0.1783 - val_accuracy: 0.9538\n",
            "Epoch 19/100\n",
            "151/151 [==============================] - 41s 273ms/step - loss: 0.4325 - accuracy: 0.8639 - val_loss: 0.1576 - val_accuracy: 0.9571\n",
            "Epoch 20/100\n",
            "151/151 [==============================] - 38s 252ms/step - loss: 0.4188 - accuracy: 0.8698 - val_loss: 0.1562 - val_accuracy: 0.9574\n",
            "Epoch 21/100\n",
            "151/151 [==============================] - 51s 341ms/step - loss: 0.4186 - accuracy: 0.8683 - val_loss: 0.1624 - val_accuracy: 0.9550\n",
            "Epoch 22/100\n",
            "151/151 [==============================] - 33s 216ms/step - loss: 0.4078 - accuracy: 0.8725 - val_loss: 0.1450 - val_accuracy: 0.9607\n",
            "Epoch 23/100\n",
            "151/151 [==============================] - 35s 232ms/step - loss: 0.4022 - accuracy: 0.8740 - val_loss: 0.1429 - val_accuracy: 0.9598\n",
            "Epoch 24/100\n",
            "151/151 [==============================] - 37s 242ms/step - loss: 0.3938 - accuracy: 0.8774 - val_loss: 0.1458 - val_accuracy: 0.9617\n",
            "Epoch 25/100\n",
            "151/151 [==============================] - 33s 215ms/step - loss: 0.3803 - accuracy: 0.8825 - val_loss: 0.1436 - val_accuracy: 0.9612\n",
            "Epoch 26/100\n",
            "151/151 [==============================] - 37s 244ms/step - loss: 0.3737 - accuracy: 0.8826 - val_loss: 0.1261 - val_accuracy: 0.9645\n",
            "Epoch 27/100\n",
            "151/151 [==============================] - 35s 231ms/step - loss: 0.3660 - accuracy: 0.8861 - val_loss: 0.1257 - val_accuracy: 0.9640\n",
            "Epoch 28/100\n",
            "151/151 [==============================] - 32s 214ms/step - loss: 0.3662 - accuracy: 0.8846 - val_loss: 0.1288 - val_accuracy: 0.9643\n",
            "Epoch 29/100\n",
            "151/151 [==============================] - 34s 226ms/step - loss: 0.3574 - accuracy: 0.8907 - val_loss: 0.1186 - val_accuracy: 0.9686\n",
            "Epoch 30/100\n",
            "151/151 [==============================] - 34s 227ms/step - loss: 0.3440 - accuracy: 0.8952 - val_loss: 0.1176 - val_accuracy: 0.9669\n",
            "Epoch 31/100\n",
            "151/151 [==============================] - 34s 223ms/step - loss: 0.3477 - accuracy: 0.8926 - val_loss: 0.1336 - val_accuracy: 0.9626\n",
            "Epoch 32/100\n",
            "151/151 [==============================] - 32s 211ms/step - loss: 0.3404 - accuracy: 0.8953 - val_loss: 0.1186 - val_accuracy: 0.9660\n",
            "Epoch 33/100\n",
            "151/151 [==============================] - 34s 225ms/step - loss: 0.3362 - accuracy: 0.8943 - val_loss: 0.1132 - val_accuracy: 0.9679\n",
            "Epoch 34/100\n",
            "151/151 [==============================] - 35s 228ms/step - loss: 0.3368 - accuracy: 0.8947 - val_loss: 0.1159 - val_accuracy: 0.9679\n",
            "Epoch 35/100\n",
            "151/151 [==============================] - 34s 227ms/step - loss: 0.3289 - accuracy: 0.8978 - val_loss: 0.1230 - val_accuracy: 0.9631\n",
            "Epoch 36/100\n",
            "151/151 [==============================] - 32s 211ms/step - loss: 0.3239 - accuracy: 0.8999 - val_loss: 0.1089 - val_accuracy: 0.9700\n",
            "Epoch 37/100\n",
            "151/151 [==============================] - 36s 239ms/step - loss: 0.3181 - accuracy: 0.9030 - val_loss: 0.1134 - val_accuracy: 0.9698\n",
            "Epoch 38/100\n",
            "151/151 [==============================] - 32s 210ms/step - loss: 0.3170 - accuracy: 0.9010 - val_loss: 0.1111 - val_accuracy: 0.9693\n",
            "Epoch 39/100\n",
            "151/151 [==============================] - 34s 227ms/step - loss: 0.3174 - accuracy: 0.9024 - val_loss: 0.1050 - val_accuracy: 0.9690\n",
            "Epoch 40/100\n",
            "151/151 [==============================] - 35s 228ms/step - loss: 0.3133 - accuracy: 0.9050 - val_loss: 0.1036 - val_accuracy: 0.9705\n",
            "Epoch 41/100\n",
            "151/151 [==============================] - 37s 243ms/step - loss: 0.3052 - accuracy: 0.9072 - val_loss: 0.1138 - val_accuracy: 0.9688\n",
            "Epoch 42/100\n",
            "151/151 [==============================] - 32s 212ms/step - loss: 0.3028 - accuracy: 0.9062 - val_loss: 0.1084 - val_accuracy: 0.9674\n",
            "Epoch 43/100\n",
            "151/151 [==============================] - 37s 242ms/step - loss: 0.2990 - accuracy: 0.9073 - val_loss: 0.1028 - val_accuracy: 0.9717\n",
            "Epoch 44/100\n",
            "151/151 [==============================] - 35s 228ms/step - loss: 0.2969 - accuracy: 0.9092 - val_loss: 0.1071 - val_accuracy: 0.9714\n",
            "Epoch 45/100\n",
            "151/151 [==============================] - 35s 231ms/step - loss: 0.2884 - accuracy: 0.9103 - val_loss: 0.0982 - val_accuracy: 0.9731\n",
            "Epoch 46/100\n",
            "151/151 [==============================] - 39s 258ms/step - loss: 0.2923 - accuracy: 0.9101 - val_loss: 0.0975 - val_accuracy: 0.9721\n",
            "Epoch 47/100\n",
            "151/151 [==============================] - 35s 230ms/step - loss: 0.2893 - accuracy: 0.9099 - val_loss: 0.0987 - val_accuracy: 0.9712\n",
            "Epoch 48/100\n",
            "151/151 [==============================] - 45s 300ms/step - loss: 0.2846 - accuracy: 0.9121 - val_loss: 0.1015 - val_accuracy: 0.9712\n",
            "Epoch 49/100\n",
            "151/151 [==============================] - 40s 262ms/step - loss: 0.2858 - accuracy: 0.9139 - val_loss: 0.0945 - val_accuracy: 0.9743\n",
            "Epoch 50/100\n",
            "151/151 [==============================] - 37s 242ms/step - loss: 0.2787 - accuracy: 0.9152 - val_loss: 0.0965 - val_accuracy: 0.9719\n",
            "Epoch 51/100\n",
            "151/151 [==============================] - 38s 252ms/step - loss: 0.2819 - accuracy: 0.9123 - val_loss: 0.0897 - val_accuracy: 0.9750\n",
            "Epoch 52/100\n",
            "151/151 [==============================] - 35s 230ms/step - loss: 0.2755 - accuracy: 0.9164 - val_loss: 0.0944 - val_accuracy: 0.9731\n",
            "Epoch 53/100\n",
            "151/151 [==============================] - 38s 250ms/step - loss: 0.2720 - accuracy: 0.9156 - val_loss: 0.0919 - val_accuracy: 0.9731\n",
            "Epoch 54/100\n",
            "151/151 [==============================] - 32s 213ms/step - loss: 0.2693 - accuracy: 0.9175 - val_loss: 0.0869 - val_accuracy: 0.9757\n",
            "Epoch 55/100\n",
            "151/151 [==============================] - 34s 226ms/step - loss: 0.2692 - accuracy: 0.9185 - val_loss: 0.0894 - val_accuracy: 0.9762\n",
            "Epoch 56/100\n",
            "151/151 [==============================] - 34s 227ms/step - loss: 0.2677 - accuracy: 0.9187 - val_loss: 0.0913 - val_accuracy: 0.9729\n",
            "Epoch 57/100\n",
            "151/151 [==============================] - 37s 242ms/step - loss: 0.2609 - accuracy: 0.9209 - val_loss: 0.0964 - val_accuracy: 0.9714\n",
            "Epoch 57: early stopping\n"
          ]
        }
      ],
      "source": [
        "# Fit the model\n",
        "history = model_2.fit_generator(datagen.flow(X_train,Y_train, \n",
        "                                           batch_size=batch_size), \n",
        "                              epochs = epochs, \n",
        "                              callbacks = [early_stopping],\n",
        "                              validation_data = (X_val,Y_val),\n",
        "                              steps_per_epoch=X_train.shape[0] // batch_size)"
      ]
    },
    {
      "cell_type": "code",
      "execution_count": null,
      "metadata": {
        "colab": {
          "base_uri": "https://localhost:8080/",
          "height": 350
        },
        "id": "qtCLicxvp1qf",
        "outputId": "6f91803a-8be0-45a4-be10-156c4af39880"
      },
      "outputs": [
        {
          "data": {
            "image/png": "[encoded data removed]",
            "text/plain": [
              "<Figure size 1080x360 with 2 Axes>"
            ]
          },
          "metadata": {},
          "output_type": "display_data"
        }
      ],
      "source": [
        "results_visualization(history)"
      ]
    },
    {
      "cell_type": "markdown",
      "metadata": {
        "id": "6qLZfnU-68th"
      },
      "source": [
        "**Task 1.3**"
      ]
    },
    {
      "cell_type": "code",
      "execution_count": null,
      "metadata": {
        "id": "X-5wyjLK66dk"
      },
      "outputs": [],
      "source": [
        "model_3 = model_1(kernel_size=[(5, 7), (2, 4)])"
      ]
    },
    {
      "cell_type": "code",
      "execution_count": null,
      "metadata": {
        "id": "znA6fBAp7cif"
      },
      "outputs": [],
      "source": [
        "epochs = 100 # for better result increase the epochs\n",
        "batch_size = 250\n",
        "\n",
        "early_stopping = EarlyStopping(verbose=1, patience=3)"
      ]
    },
    {
      "cell_type": "code",
      "execution_count": null,
      "metadata": {
        "colab": {
          "base_uri": "https://localhost:8080/"
        },
        "id": "KjIHocGE7gjt",
        "outputId": "2e193981-e10c-4698-a4fb-5353a467ce40"
      },
      "outputs": [
        {
          "name": "stdout",
          "output_type": "stream",
          "text": [
            "Epoch 1/100\n",
            "151/151 [==============================] - 37s 243ms/step - loss: 1.5605 - accuracy: 0.4552 - val_loss: 0.4359 - val_accuracy: 0.9014\n",
            "Epoch 2/100\n",
            "151/151 [==============================] - 36s 239ms/step - loss: 0.6886 - accuracy: 0.7773 - val_loss: 0.2557 - val_accuracy: 0.9381\n",
            "Epoch 3/100\n",
            "151/151 [==============================] - 38s 249ms/step - loss: 0.5204 - accuracy: 0.8382 - val_loss: 0.1982 - val_accuracy: 0.9479\n",
            "Epoch 4/100\n",
            "151/151 [==============================] - 38s 251ms/step - loss: 0.4381 - accuracy: 0.8608 - val_loss: 0.1535 - val_accuracy: 0.9574\n",
            "Epoch 5/100\n",
            "151/151 [==============================] - 38s 252ms/step - loss: 0.3915 - accuracy: 0.8792 - val_loss: 0.1320 - val_accuracy: 0.9631\n",
            "Epoch 6/100\n",
            "151/151 [==============================] - 36s 240ms/step - loss: 0.3624 - accuracy: 0.8874 - val_loss: 0.1173 - val_accuracy: 0.9681\n",
            "Epoch 7/100\n",
            "151/151 [==============================] - 40s 262ms/step - loss: 0.3352 - accuracy: 0.8959 - val_loss: 0.1007 - val_accuracy: 0.9721\n",
            "Epoch 8/100\n",
            "151/151 [==============================] - 40s 268ms/step - loss: 0.3185 - accuracy: 0.9025 - val_loss: 0.0987 - val_accuracy: 0.9736\n",
            "Epoch 9/100\n",
            "151/151 [==============================] - 38s 253ms/step - loss: 0.3040 - accuracy: 0.9080 - val_loss: 0.0973 - val_accuracy: 0.9702\n",
            "Epoch 10/100\n",
            "151/151 [==============================] - 52s 342ms/step - loss: 0.2895 - accuracy: 0.9103 - val_loss: 0.0862 - val_accuracy: 0.9760\n",
            "Epoch 11/100\n",
            "151/151 [==============================] - 44s 292ms/step - loss: 0.2789 - accuracy: 0.9138 - val_loss: 0.0843 - val_accuracy: 0.9752\n",
            "Epoch 12/100\n",
            "151/151 [==============================] - 38s 254ms/step - loss: 0.2604 - accuracy: 0.9202 - val_loss: 0.0777 - val_accuracy: 0.9781\n",
            "Epoch 13/100\n",
            "151/151 [==============================] - 38s 249ms/step - loss: 0.2604 - accuracy: 0.9208 - val_loss: 0.0828 - val_accuracy: 0.9769\n",
            "Epoch 14/100\n",
            "151/151 [==============================] - 48s 319ms/step - loss: 0.2508 - accuracy: 0.9238 - val_loss: 0.0760 - val_accuracy: 0.9781\n",
            "Epoch 15/100\n",
            "151/151 [==============================] - 37s 247ms/step - loss: 0.2397 - accuracy: 0.9266 - val_loss: 0.0704 - val_accuracy: 0.9798\n",
            "Epoch 16/100\n",
            "151/151 [==============================] - 38s 250ms/step - loss: 0.2421 - accuracy: 0.9253 - val_loss: 0.0695 - val_accuracy: 0.9786\n",
            "Epoch 17/100\n",
            "151/151 [==============================] - 39s 256ms/step - loss: 0.2285 - accuracy: 0.9301 - val_loss: 0.0676 - val_accuracy: 0.9805\n",
            "Epoch 18/100\n",
            "151/151 [==============================] - 36s 239ms/step - loss: 0.2246 - accuracy: 0.9304 - val_loss: 0.0623 - val_accuracy: 0.9829\n",
            "Epoch 19/100\n",
            "151/151 [==============================] - 39s 257ms/step - loss: 0.2191 - accuracy: 0.9332 - val_loss: 0.0660 - val_accuracy: 0.9819\n",
            "Epoch 20/100\n",
            "151/151 [==============================] - 40s 261ms/step - loss: 0.2217 - accuracy: 0.9327 - val_loss: 0.0618 - val_accuracy: 0.9819\n",
            "Epoch 21/100\n",
            "151/151 [==============================] - 38s 250ms/step - loss: 0.2103 - accuracy: 0.9373 - val_loss: 0.0623 - val_accuracy: 0.9826\n",
            "Epoch 22/100\n",
            "151/151 [==============================] - 37s 244ms/step - loss: 0.2092 - accuracy: 0.9364 - val_loss: 0.0673 - val_accuracy: 0.9821\n",
            "Epoch 23/100\n",
            "151/151 [==============================] - 36s 237ms/step - loss: 0.2036 - accuracy: 0.9385 - val_loss: 0.0611 - val_accuracy: 0.9817\n",
            "Epoch 24/100\n",
            "151/151 [==============================] - 40s 264ms/step - loss: 0.2078 - accuracy: 0.9368 - val_loss: 0.0578 - val_accuracy: 0.9810\n",
            "Epoch 25/100\n",
            "151/151 [==============================] - 40s 265ms/step - loss: 0.2041 - accuracy: 0.9390 - val_loss: 0.0580 - val_accuracy: 0.9824\n",
            "Epoch 26/100\n",
            "151/151 [==============================] - 37s 247ms/step - loss: 0.1957 - accuracy: 0.9402 - val_loss: 0.0588 - val_accuracy: 0.9833\n",
            "Epoch 27/100\n",
            "151/151 [==============================] - 36s 240ms/step - loss: 0.1906 - accuracy: 0.9421 - val_loss: 0.0590 - val_accuracy: 0.9826\n",
            "Epoch 27: early stopping\n"
          ]
        }
      ],
      "source": [
        "# Fit the model\n",
        "history = model_3.fit_generator(datagen.flow(X_train,Y_train, \n",
        "                                           batch_size=batch_size), \n",
        "                              epochs = epochs, \n",
        "                              callbacks = [early_stopping],\n",
        "                              validation_data = (X_val,Y_val),\n",
        "                              steps_per_epoch=X_train.shape[0] // batch_size)"
      ]
    },
    {
      "cell_type": "code",
      "execution_count": null,
      "metadata": {
        "colab": {
          "base_uri": "https://localhost:8080/",
          "height": 350
        },
        "id": "s7ydWI2n73de",
        "outputId": "1a6aa676-66c1-4f14-e141-28351d61a43a"
      },
      "outputs": [
        {
          "data": {
            "image/png": "[encoded data removed]",
            "text/plain": [
              "<Figure size 1080x360 with 2 Axes>"
            ]
          },
          "metadata": {},
          "output_type": "display_data"
        }
      ],
      "source": [
        "results_visualization(history)"
      ]
    },
    {
      "cell_type": "code",
      "execution_count": null,
      "metadata": {
        "id": "ORuWniyc7zy0"
      },
      "outputs": [],
      "source": [
        "model_4 = model_1(kernel_size=[(7, 5), (4, 2)])"
      ]
    },
    {
      "cell_type": "code",
      "execution_count": null,
      "metadata": {
        "id": "wBj_DLr28IqP"
      },
      "outputs": [],
      "source": [
        "epochs = 100 # for better result increase the epochs\n",
        "batch_size = 250\n",
        "\n",
        "early_stopping = EarlyStopping(verbose=1, patience=3)"
      ]
    },
    {
      "cell_type": "code",
      "execution_count": null,
      "metadata": {
        "colab": {
          "base_uri": "https://localhost:8080/"
        },
        "id": "wRzBQBvu8K6s",
        "outputId": "0ea08469-4a67-4acf-8946-5a53e27daba8"
      },
      "outputs": [
        {
          "name": "stdout",
          "output_type": "stream",
          "text": [
            "Epoch 1/100\n",
            "151/151 [==============================] - 37s 241ms/step - loss: 0.9734 - accuracy: 0.6723 - val_loss: 0.2139 - val_accuracy: 0.9464\n",
            "Epoch 2/100\n",
            "151/151 [==============================] - 47s 311ms/step - loss: 0.4641 - accuracy: 0.8522 - val_loss: 0.1422 - val_accuracy: 0.9626\n",
            "Epoch 3/100\n",
            "151/151 [==============================] - 40s 263ms/step - loss: 0.3924 - accuracy: 0.8775 - val_loss: 0.1407 - val_accuracy: 0.9610\n",
            "Epoch 4/100\n",
            "151/151 [==============================] - 37s 242ms/step - loss: 0.3568 - accuracy: 0.8899 - val_loss: 0.1218 - val_accuracy: 0.9636\n",
            "Epoch 5/100\n",
            "151/151 [==============================] - 36s 241ms/step - loss: 0.3284 - accuracy: 0.8987 - val_loss: 0.1002 - val_accuracy: 0.9719\n",
            "Epoch 6/100\n",
            "151/151 [==============================] - 42s 279ms/step - loss: 0.3068 - accuracy: 0.9060 - val_loss: 0.1048 - val_accuracy: 0.9712\n",
            "Epoch 7/100\n",
            "151/151 [==============================] - 40s 266ms/step - loss: 0.2979 - accuracy: 0.9092 - val_loss: 0.0971 - val_accuracy: 0.9695\n",
            "Epoch 8/100\n",
            "151/151 [==============================] - 38s 254ms/step - loss: 0.2832 - accuracy: 0.9124 - val_loss: 0.0983 - val_accuracy: 0.9712\n",
            "Epoch 9/100\n",
            "151/151 [==============================] - 38s 254ms/step - loss: 0.2751 - accuracy: 0.9142 - val_loss: 0.0863 - val_accuracy: 0.9748\n",
            "Epoch 10/100\n",
            "151/151 [==============================] - 37s 243ms/step - loss: 0.2602 - accuracy: 0.9194 - val_loss: 0.0870 - val_accuracy: 0.9726\n",
            "Epoch 11/100\n",
            "151/151 [==============================] - 38s 253ms/step - loss: 0.2585 - accuracy: 0.9220 - val_loss: 0.0810 - val_accuracy: 0.9760\n",
            "Epoch 12/100\n",
            "151/151 [==============================] - 43s 284ms/step - loss: 0.2571 - accuracy: 0.9206 - val_loss: 0.0797 - val_accuracy: 0.9760\n",
            "Epoch 13/100\n",
            "151/151 [==============================] - 36s 239ms/step - loss: 0.2518 - accuracy: 0.9238 - val_loss: 0.0805 - val_accuracy: 0.9762\n",
            "Epoch 14/100\n",
            "151/151 [==============================] - 36s 241ms/step - loss: 0.2423 - accuracy: 0.9263 - val_loss: 0.0760 - val_accuracy: 0.9767\n",
            "Epoch 15/100\n",
            "151/151 [==============================] - 38s 254ms/step - loss: 0.2391 - accuracy: 0.9280 - val_loss: 0.0723 - val_accuracy: 0.9783\n",
            "Epoch 16/100\n",
            "151/151 [==============================] - 38s 252ms/step - loss: 0.2383 - accuracy: 0.9275 - val_loss: 0.0720 - val_accuracy: 0.9790\n",
            "Epoch 17/100\n",
            "151/151 [==============================] - 43s 282ms/step - loss: 0.2246 - accuracy: 0.9322 - val_loss: 0.0702 - val_accuracy: 0.9786\n",
            "Epoch 18/100\n",
            "151/151 [==============================] - 36s 239ms/step - loss: 0.2276 - accuracy: 0.9312 - val_loss: 0.0661 - val_accuracy: 0.9807\n",
            "Epoch 19/100\n",
            "151/151 [==============================] - 38s 254ms/step - loss: 0.2202 - accuracy: 0.9324 - val_loss: 0.0674 - val_accuracy: 0.9810\n",
            "Epoch 20/100\n",
            "151/151 [==============================] - 39s 256ms/step - loss: 0.2221 - accuracy: 0.9318 - val_loss: 0.0655 - val_accuracy: 0.9798\n",
            "Epoch 21/100\n",
            "151/151 [==============================] - 43s 283ms/step - loss: 0.2161 - accuracy: 0.9343 - val_loss: 0.0626 - val_accuracy: 0.9798\n",
            "Epoch 22/100\n",
            "151/151 [==============================] - 36s 238ms/step - loss: 0.2169 - accuracy: 0.9330 - val_loss: 0.0604 - val_accuracy: 0.9817\n",
            "Epoch 23/100\n",
            "151/151 [==============================] - 38s 253ms/step - loss: 0.2084 - accuracy: 0.9370 - val_loss: 0.0771 - val_accuracy: 0.9760\n",
            "Epoch 24/100\n",
            "151/151 [==============================] - 39s 256ms/step - loss: 0.2118 - accuracy: 0.9362 - val_loss: 0.0610 - val_accuracy: 0.9833\n",
            "Epoch 25/100\n",
            "151/151 [==============================] - 44s 289ms/step - loss: 0.2071 - accuracy: 0.9375 - val_loss: 0.0626 - val_accuracy: 0.9810\n",
            "Epoch 25: early stopping\n"
          ]
        }
      ],
      "source": [
        "# Fit the model\n",
        "history = model_4.fit_generator(datagen.flow(X_train,Y_train, \n",
        "                                           batch_size=batch_size), \n",
        "                              epochs = epochs, \n",
        "                              callbacks = [early_stopping],\n",
        "                              validation_data = (X_val,Y_val),\n",
        "                              steps_per_epoch=X_train.shape[0] // batch_size)"
      ]
    },
    {
      "cell_type": "code",
      "execution_count": null,
      "metadata": {
        "colab": {
          "base_uri": "https://localhost:8080/",
          "height": 350
        },
        "id": "KFKP4_FU8QLx",
        "outputId": "26b6326b-a955-479e-b3a3-d9d5d4f4a308"
      },
      "outputs": [
        {
          "data": {
            "image/png": "[encoded data removed]",
            "text/plain": [
              "<Figure size 1080x360 with 2 Axes>"
            ]
          },
          "metadata": {},
          "output_type": "display_data"
        }
      ],
      "source": [
        "results_visualization(history)"
      ]
    },
    {
      "cell_type": "code",
      "execution_count": null,
      "metadata": {
        "id": "y-4Bqa-v8OLW"
      },
      "outputs": [],
      "source": [
        "model_5 = model_1(kernel_size=[(7, 5), (2, 2)])"
      ]
    },
    {
      "cell_type": "code",
      "execution_count": null,
      "metadata": {
        "id": "_Kzh-j0j8c7N"
      },
      "outputs": [],
      "source": [
        "epochs = 100 # for better result increase the epochs\n",
        "batch_size = 250\n",
        "\n",
        "early_stopping = EarlyStopping(verbose=1, patience=3)"
      ]
    },
    {
      "cell_type": "code",
      "execution_count": null,
      "metadata": {
        "colab": {
          "base_uri": "https://localhost:8080/"
        },
        "id": "kzHRNUwr8fUA",
        "outputId": "502ca67c-e9e2-4970-f75d-ad4d24cb70b5"
      },
      "outputs": [
        {
          "name": "stdout",
          "output_type": "stream",
          "text": [
            "Epoch 1/100\n",
            "151/151 [==============================] - 38s 245ms/step - loss: 1.0240 - accuracy: 0.6559 - val_loss: 0.2625 - val_accuracy: 0.9333\n",
            "Epoch 2/100\n",
            "151/151 [==============================] - 35s 230ms/step - loss: 0.5290 - accuracy: 0.8317 - val_loss: 0.2050 - val_accuracy: 0.9471\n",
            "Epoch 3/100\n",
            "151/151 [==============================] - 37s 248ms/step - loss: 0.4301 - accuracy: 0.8657 - val_loss: 0.1565 - val_accuracy: 0.9574\n",
            "Epoch 4/100\n",
            "151/151 [==============================] - 37s 246ms/step - loss: 0.3908 - accuracy: 0.8804 - val_loss: 0.1413 - val_accuracy: 0.9621\n",
            "Epoch 5/100\n",
            "151/151 [==============================] - 39s 259ms/step - loss: 0.3686 - accuracy: 0.8821 - val_loss: 0.1244 - val_accuracy: 0.9643\n",
            "Epoch 6/100\n",
            "151/151 [==============================] - 43s 286ms/step - loss: 0.3468 - accuracy: 0.8905 - val_loss: 0.1148 - val_accuracy: 0.9686\n",
            "Epoch 7/100\n",
            "151/151 [==============================] - 37s 247ms/step - loss: 0.3225 - accuracy: 0.9000 - val_loss: 0.1023 - val_accuracy: 0.9724\n",
            "Epoch 8/100\n",
            "151/151 [==============================] - 36s 239ms/step - loss: 0.3212 - accuracy: 0.9002 - val_loss: 0.1025 - val_accuracy: 0.9702\n",
            "Epoch 9/100\n",
            "151/151 [==============================] - 37s 243ms/step - loss: 0.3063 - accuracy: 0.9062 - val_loss: 0.1009 - val_accuracy: 0.9714\n",
            "Epoch 10/100\n",
            "151/151 [==============================] - 34s 228ms/step - loss: 0.2899 - accuracy: 0.9096 - val_loss: 0.0924 - val_accuracy: 0.9724\n",
            "Epoch 11/100\n",
            "151/151 [==============================] - 37s 246ms/step - loss: 0.2865 - accuracy: 0.9136 - val_loss: 0.0889 - val_accuracy: 0.9750\n",
            "Epoch 12/100\n",
            "151/151 [==============================] - 37s 244ms/step - loss: 0.2823 - accuracy: 0.9127 - val_loss: 0.0886 - val_accuracy: 0.9760\n",
            "Epoch 13/100\n",
            "151/151 [==============================] - 37s 242ms/step - loss: 0.2699 - accuracy: 0.9174 - val_loss: 0.0876 - val_accuracy: 0.9745\n",
            "Epoch 14/100\n",
            "151/151 [==============================] - 37s 244ms/step - loss: 0.2725 - accuracy: 0.9163 - val_loss: 0.0854 - val_accuracy: 0.9760\n",
            "Epoch 15/100\n",
            "151/151 [==============================] - 35s 228ms/step - loss: 0.2570 - accuracy: 0.9216 - val_loss: 0.0867 - val_accuracy: 0.9755\n",
            "Epoch 16/100\n",
            "151/151 [==============================] - 41s 274ms/step - loss: 0.2626 - accuracy: 0.9190 - val_loss: 0.0809 - val_accuracy: 0.9776\n",
            "Epoch 17/100\n",
            "151/151 [==============================] - 37s 243ms/step - loss: 0.2503 - accuracy: 0.9221 - val_loss: 0.0944 - val_accuracy: 0.9743\n",
            "Epoch 18/100\n",
            "151/151 [==============================] - 37s 242ms/step - loss: 0.2509 - accuracy: 0.9246 - val_loss: 0.0785 - val_accuracy: 0.9767\n",
            "Epoch 19/100\n",
            "151/151 [==============================] - 36s 240ms/step - loss: 0.2500 - accuracy: 0.9233 - val_loss: 0.0722 - val_accuracy: 0.9781\n",
            "Epoch 20/100\n",
            "151/151 [==============================] - 35s 228ms/step - loss: 0.2413 - accuracy: 0.9262 - val_loss: 0.0783 - val_accuracy: 0.9760\n",
            "Epoch 21/100\n",
            "151/151 [==============================] - 37s 240ms/step - loss: 0.2332 - accuracy: 0.9299 - val_loss: 0.0768 - val_accuracy: 0.9774\n",
            "Epoch 22/100\n",
            "151/151 [==============================] - 41s 273ms/step - loss: 0.2357 - accuracy: 0.9271 - val_loss: 0.0747 - val_accuracy: 0.9781\n",
            "Epoch 22: early stopping\n"
          ]
        }
      ],
      "source": [
        "# Fit the model\n",
        "history = model_5.fit_generator(datagen.flow(X_train,Y_train, \n",
        "                                           batch_size=batch_size), \n",
        "                              epochs = epochs, \n",
        "                              callbacks = [early_stopping],\n",
        "                              validation_data = (X_val,Y_val),\n",
        "                              steps_per_epoch=X_train.shape[0] // batch_size)"
      ]
    },
    {
      "cell_type": "code",
      "execution_count": null,
      "metadata": {
        "colab": {
          "base_uri": "https://localhost:8080/",
          "height": 350
        },
        "id": "hTHx1iFX8iQ0",
        "outputId": "9e62e9b4-c61c-4503-da0f-3888424a7c58"
      },
      "outputs": [
        {
          "data": {
            "image/png": "[encoded data removed]",
            "text/plain": [
              "<Figure size 1080x360 with 2 Axes>"
            ]
          },
          "metadata": {},
          "output_type": "display_data"
        }
      ],
      "source": [
        "results_visualization(history)"
      ]
    },
    {
      "cell_type": "markdown",
      "metadata": {
        "id": "LzjPs7BXAOsM"
      },
      "source": [
        "**Task 1.4**"
      ]
    },
    {
      "cell_type": "code",
      "execution_count": null,
      "metadata": {
        "id": "6kOM40CQXyTD"
      },
      "outputs": [],
      "source": [
        "def model_new1(optimizer = Adam(lr=0.001, beta_1=0.9, beta_2=0.999)):\n",
        "  \n",
        "  model = Sequential()\n",
        "\n",
        "  model.add(Conv2D(filters = 16, kernel_size = 3, padding = 'Same',\n",
        "                   activation ='relu', input_shape = (28,28,1)))\n",
        "  model.add(Conv2D(filters = 16, kernel_size = 3, padding = 'Same',\n",
        "                   activation ='relu'))\n",
        "  model.add(MaxPool2D(pool_size=(2,2)))\n",
        "  model.add(Dropout(0.25))\n",
        "\n",
        "  model.add(Conv2D(filters = 32, kernel_size = 5, padding = 'Same',\n",
        "                   activation ='relu'))\n",
        "  model.add(Conv2D(filters = 32, kernel_size = 5, padding = 'Same',\n",
        "                   activation ='relu'))\n",
        "  model.add(MaxPool2D(pool_size=(2,2), strides=(2,2)))\n",
        "  model.add(Dropout(0.25))\n",
        "\n",
        "  model.add(Conv2D(filters = 64, kernel_size = 5, padding = 'Same',\n",
        "                   activation ='relu'))\n",
        "  model.add(MaxPool2D(pool_size=(2,2), strides=(2,2)))\n",
        "  model.add(Dropout(0.25))\n",
        "\n",
        "  # fully connected\n",
        "  model.add(Flatten())\n",
        "  model.add(Dense(256, activation = \"relu\"))\n",
        "  model.add(Dropout(0.5))\n",
        "  model.add(Dense(10, activation = \"softmax\"))\n",
        "\n",
        "  # Compile the model\n",
        "  model.compile(optimizer = optimizer , loss = \"categorical_crossentropy\", \n",
        "                metrics=[\"accuracy\"])\n",
        "  \n",
        "  return model"
      ]
    },
    {
      "cell_type": "code",
      "execution_count": null,
      "metadata": {
        "id": "M7IVj5O6YvbY"
      },
      "outputs": [],
      "source": [
        "model_11_1 = model_new1()"
      ]
    },
    {
      "cell_type": "code",
      "execution_count": null,
      "metadata": {
        "id": "awEPhoJvETmY"
      },
      "outputs": [],
      "source": [
        "epochs = 100 # for better result increase the epochs\n",
        "batch_size = 64\n",
        "\n",
        "early_stopping = EarlyStopping(verbose=1, patience=3)"
      ]
    },
    {
      "cell_type": "code",
      "execution_count": null,
      "metadata": {
        "colab": {
          "base_uri": "https://localhost:8080/"
        },
        "id": "KyfbjTvDEVyc",
        "outputId": "761cbbae-efaf-4864-da3e-b8a18d8507ed"
      },
      "outputs": [
        {
          "output_type": "stream",
          "name": "stdout",
          "text": [
            "Epoch 1/100\n",
            "590/590 [==============================] - 23s 24ms/step - loss: 0.7143 - accuracy: 0.7578 - val_loss: 0.0842 - val_accuracy: 0.9750\n",
            "Epoch 2/100\n",
            "590/590 [==============================] - 15s 26ms/step - loss: 0.1773 - accuracy: 0.9497 - val_loss: 0.0609 - val_accuracy: 0.9831\n",
            "Epoch 3/100\n",
            "590/590 [==============================] - 15s 26ms/step - loss: 0.1279 - accuracy: 0.9637 - val_loss: 0.0412 - val_accuracy: 0.9886\n",
            "Epoch 4/100\n",
            "590/590 [==============================] - 14s 24ms/step - loss: 0.1007 - accuracy: 0.9704 - val_loss: 0.0347 - val_accuracy: 0.9900\n",
            "Epoch 5/100\n",
            "590/590 [==============================] - 14s 24ms/step - loss: 0.0927 - accuracy: 0.9737 - val_loss: 0.0363 - val_accuracy: 0.9905\n",
            "Epoch 6/100\n",
            "590/590 [==============================] - 14s 24ms/step - loss: 0.0824 - accuracy: 0.9759 - val_loss: 0.0248 - val_accuracy: 0.9914\n",
            "Epoch 7/100\n",
            "590/590 [==============================] - 14s 23ms/step - loss: 0.0761 - accuracy: 0.9786 - val_loss: 0.0440 - val_accuracy: 0.9886\n",
            "Epoch 8/100\n",
            "590/590 [==============================] - 14s 23ms/step - loss: 0.0715 - accuracy: 0.9802 - val_loss: 0.0333 - val_accuracy: 0.9905\n",
            "Epoch 9/100\n",
            "590/590 [==============================] - 14s 24ms/step - loss: 0.0698 - accuracy: 0.9798 - val_loss: 0.0274 - val_accuracy: 0.9910\n",
            "Epoch 9: early stopping\n"
          ]
        }
      ],
      "source": [
        "# Fit the model\n",
        "history = model_11_1.fit_generator(datagen.flow(X_train,Y_train, \n",
        "                                           batch_size=batch_size), \n",
        "                              epochs = epochs, \n",
        "                              callbacks = [early_stopping],\n",
        "                              validation_data = (X_val,Y_val),\n",
        "                              steps_per_epoch=X_train.shape[0] // batch_size)"
      ]
    },
    {
      "cell_type": "code",
      "source": [
        "results_visualization(history)"
      ],
      "metadata": {
        "colab": {
          "base_uri": "https://localhost:8080/",
          "height": 350
        },
        "id": "s1XOTPSnvm1M",
        "outputId": "9d4ce07a-26d4-4571-f592-c910f1ce754c"
      },
      "execution_count": null,
      "outputs": [
        {
          "output_type": "display_data",
          "data": {
            "text/plain": [
              "<Figure size 1080x360 with 2 Axes>"
            ],
            "image/png": "[encoded data removed]"
          },
          "metadata": {
            "needs_background": "light"
          }
        }
      ]
    },
    {
      "cell_type": "code",
      "source": [
        "def model_new2(optimizer = Adam(lr=0.001, beta_1=0.9, beta_2=0.999)):\n",
        "  \n",
        "  model = Sequential()\n",
        "\n",
        "  model.add(Conv2D(filters = 16, kernel_size = 3, padding = 'Same',\n",
        "                   activation ='relu', input_shape = (28,28,1)))\n",
        "  model.add(Conv2D(filters = 16, kernel_size = 3, padding = 'Same',\n",
        "                   activation ='relu'))\n",
        "  model.add(MaxPool2D(pool_size=(2,2)))\n",
        "\n",
        "  model.add(Conv2D(filters = 32, kernel_size = 5, padding = 'Same',\n",
        "                   activation ='relu'))\n",
        "  model.add(Conv2D(filters = 32, kernel_size = 5, padding = 'Same',\n",
        "                   activation ='relu'))\n",
        "  model.add(MaxPool2D(pool_size=(2,2), strides=(2,2)))\n",
        "\n",
        "  model.add(Conv2D(filters = 64, kernel_size = 5, padding = 'Same',\n",
        "                   activation ='relu'))\n",
        "  model.add(MaxPool2D(pool_size=(2,2), strides=(2,2)))\n",
        "  model.add(Dropout(0.25))\n",
        "\n",
        "  # fully connected\n",
        "  model.add(Flatten())\n",
        "  model.add(Dense(256, activation = \"relu\"))\n",
        "  model.add(Dropout(0.5))\n",
        "  model.add(Dense(10, activation = \"softmax\"))\n",
        "\n",
        "  # Compile the model\n",
        "  model.compile(optimizer = optimizer , loss = \"categorical_crossentropy\", \n",
        "                metrics=[\"accuracy\"])\n",
        "  \n",
        "  return model"
      ],
      "metadata": {
        "id": "4ul25OHZvSi0"
      },
      "execution_count": null,
      "outputs": []
    },
    {
      "cell_type": "code",
      "source": [
        "model_11_2 = model_new2()"
      ],
      "metadata": {
        "id": "M32NZ2UcvZL4"
      },
      "execution_count": null,
      "outputs": []
    },
    {
      "cell_type": "code",
      "execution_count": null,
      "metadata": {
        "id": "P28-3jm-vdYM"
      },
      "outputs": [],
      "source": [
        "epochs = 100 # for better result increase the epochs\n",
        "batch_size = 64\n",
        "\n",
        "early_stopping = EarlyStopping(verbose=1, patience=3)"
      ]
    },
    {
      "cell_type": "code",
      "execution_count": null,
      "metadata": {
        "colab": {
          "base_uri": "https://localhost:8080/"
        },
        "outputId": "fd47a1dc-d629-456a-c13a-3598a7571333",
        "id": "LXAKFcjNvhA1"
      },
      "outputs": [
        {
          "output_type": "stream",
          "name": "stdout",
          "text": [
            "Epoch 1/100\n",
            "590/590 [==============================] - 17s 28ms/step - loss: 0.5839 - accuracy: 0.8068 - val_loss: 0.0751 - val_accuracy: 0.9740\n",
            "Epoch 2/100\n",
            "590/590 [==============================] - 14s 24ms/step - loss: 0.1526 - accuracy: 0.9564 - val_loss: 0.0475 - val_accuracy: 0.9829\n",
            "Epoch 3/100\n",
            "590/590 [==============================] - 14s 23ms/step - loss: 0.0998 - accuracy: 0.9720 - val_loss: 0.0471 - val_accuracy: 0.9860\n",
            "Epoch 4/100\n",
            "590/590 [==============================] - 14s 23ms/step - loss: 0.0817 - accuracy: 0.9774 - val_loss: 0.0337 - val_accuracy: 0.9888\n",
            "Epoch 5/100\n",
            "590/590 [==============================] - 15s 25ms/step - loss: 0.0708 - accuracy: 0.9794 - val_loss: 0.0291 - val_accuracy: 0.9905\n",
            "Epoch 6/100\n",
            "590/590 [==============================] - 15s 25ms/step - loss: 0.0644 - accuracy: 0.9824 - val_loss: 0.0354 - val_accuracy: 0.9910\n",
            "Epoch 7/100\n",
            "590/590 [==============================] - 14s 24ms/step - loss: 0.0571 - accuracy: 0.9838 - val_loss: 0.0247 - val_accuracy: 0.9931\n",
            "Epoch 8/100\n",
            "590/590 [==============================] - 14s 25ms/step - loss: 0.0555 - accuracy: 0.9846 - val_loss: 0.0391 - val_accuracy: 0.9893\n",
            "Epoch 9/100\n",
            "590/590 [==============================] - 16s 27ms/step - loss: 0.0549 - accuracy: 0.9842 - val_loss: 0.0331 - val_accuracy: 0.9914\n",
            "Epoch 10/100\n",
            "590/590 [==============================] - 14s 24ms/step - loss: 0.0490 - accuracy: 0.9860 - val_loss: 0.0325 - val_accuracy: 0.9926\n",
            "Epoch 10: early stopping\n"
          ]
        }
      ],
      "source": [
        "# Fit the model\n",
        "history = model_11_2.fit_generator(datagen.flow(X_train,Y_train, \n",
        "                                           batch_size=batch_size), \n",
        "                              epochs = epochs, \n",
        "                              callbacks = [early_stopping],\n",
        "                              validation_data = (X_val,Y_val),\n",
        "                              steps_per_epoch=X_train.shape[0] // batch_size)"
      ]
    },
    {
      "cell_type": "code",
      "source": [
        "results_visualization(history)"
      ],
      "metadata": {
        "colab": {
          "base_uri": "https://localhost:8080/",
          "height": 350
        },
        "outputId": "9d4ce07a-26d4-4571-f592-c910f1ce754c",
        "id": "VGMPLCfFv3A1"
      },
      "execution_count": null,
      "outputs": [
        {
          "output_type": "display_data",
          "data": {
            "text/plain": [
              "<Figure size 1080x360 with 2 Axes>"
            ],
            "image/png": "[encoded data removed]"
          },
          "metadata": {
            "needs_background": "light"
          }
        }
      ]
    },
    {
      "cell_type": "markdown",
      "metadata": {
        "id": "EqgvalonLcZD"
      },
      "source": [
        "**Task 1.5**"
      ]
    },
    {
      "cell_type": "code",
      "execution_count": null,
      "metadata": {
        "id": "HCEZ3MRPERrF"
      },
      "outputs": [],
      "source": [
        "# data augmentation\n",
        "datagen = ImageDataGenerator(\n",
        "        featurewise_center=False,  \n",
        "        samplewise_center=False, \n",
        "        featurewise_std_normalization=False,  \n",
        "        samplewise_std_normalization=False,  \n",
        "        zca_whitening=False, \n",
        "        rotation_range=15,  \n",
        "        zoom_range = 0.3, \n",
        "        width_shift_range=0.1,  \n",
        "        height_shift_range=0.1,  \n",
        "        horizontal_flip=False,  \n",
        "        vertical_flip=False)\n",
        "\n",
        "datagen.fit(X_train)"
      ]
    },
    {
      "cell_type": "code",
      "source": [
        "model_6 = model_1()"
      ],
      "metadata": {
        "id": "oPJtjJRhxrL5"
      },
      "execution_count": null,
      "outputs": []
    },
    {
      "cell_type": "code",
      "execution_count": null,
      "metadata": {
        "id": "z1rT_v3gyIVh"
      },
      "outputs": [],
      "source": [
        "epochs = 100 # for better result increase the epochs\n",
        "batch_size = 250\n",
        "\n",
        "early_stopping = EarlyStopping(verbose=1, patience=3)"
      ]
    },
    {
      "cell_type": "code",
      "execution_count": null,
      "metadata": {
        "colab": {
          "base_uri": "https://localhost:8080/"
        },
        "outputId": "893c2470-7be0-46a8-ce59-a336b2f798e9",
        "id": "koWriKc0yK_7"
      },
      "outputs": [
        {
          "output_type": "stream",
          "name": "stdout",
          "text": [
            "Epoch 1/100\n",
            "151/151 [==============================] - 11s 74ms/step - loss: 0.8630 - accuracy: 0.7198 - val_loss: 0.1832 - val_accuracy: 0.9507\n",
            "Epoch 2/100\n",
            "151/151 [==============================] - 13s 87ms/step - loss: 0.5165 - accuracy: 0.8378 - val_loss: 0.1337 - val_accuracy: 0.9605\n",
            "Epoch 3/100\n",
            "151/151 [==============================] - 12s 81ms/step - loss: 0.4029 - accuracy: 0.8731 - val_loss: 0.1023 - val_accuracy: 0.9683\n",
            "Epoch 4/100\n",
            "151/151 [==============================] - 13s 88ms/step - loss: 0.3529 - accuracy: 0.8907 - val_loss: 0.0917 - val_accuracy: 0.9736\n",
            "Epoch 5/100\n",
            "151/151 [==============================] - 11s 70ms/step - loss: 0.3175 - accuracy: 0.9023 - val_loss: 0.0767 - val_accuracy: 0.9769\n",
            "Epoch 6/100\n",
            "151/151 [==============================] - 11s 72ms/step - loss: 0.2946 - accuracy: 0.9100 - val_loss: 0.0768 - val_accuracy: 0.9795\n",
            "Epoch 7/100\n",
            "151/151 [==============================] - 11s 72ms/step - loss: 0.2780 - accuracy: 0.9130 - val_loss: 0.0666 - val_accuracy: 0.9805\n",
            "Epoch 8/100\n",
            "151/151 [==============================] - 11s 70ms/step - loss: 0.2605 - accuracy: 0.9188 - val_loss: 0.0615 - val_accuracy: 0.9817\n",
            "Epoch 9/100\n",
            "151/151 [==============================] - 11s 72ms/step - loss: 0.2445 - accuracy: 0.9254 - val_loss: 0.0591 - val_accuracy: 0.9805\n",
            "Epoch 10/100\n",
            "151/151 [==============================] - 11s 75ms/step - loss: 0.2402 - accuracy: 0.9263 - val_loss: 0.0581 - val_accuracy: 0.9802\n",
            "Epoch 11/100\n",
            "151/151 [==============================] - 11s 71ms/step - loss: 0.2289 - accuracy: 0.9286 - val_loss: 0.0551 - val_accuracy: 0.9810\n",
            "Epoch 12/100\n",
            "151/151 [==============================] - 11s 74ms/step - loss: 0.2177 - accuracy: 0.9328 - val_loss: 0.0543 - val_accuracy: 0.9840\n",
            "Epoch 13/100\n",
            "151/151 [==============================] - 13s 86ms/step - loss: 0.2074 - accuracy: 0.9361 - val_loss: 0.0535 - val_accuracy: 0.9831\n",
            "Epoch 14/100\n",
            "151/151 [==============================] - 11s 73ms/step - loss: 0.2084 - accuracy: 0.9345 - val_loss: 0.0514 - val_accuracy: 0.9843\n",
            "Epoch 15/100\n",
            "151/151 [==============================] - 11s 70ms/step - loss: 0.2035 - accuracy: 0.9366 - val_loss: 0.0483 - val_accuracy: 0.9840\n",
            "Epoch 16/100\n",
            "151/151 [==============================] - 11s 70ms/step - loss: 0.1993 - accuracy: 0.9392 - val_loss: 0.0442 - val_accuracy: 0.9860\n",
            "Epoch 17/100\n",
            "151/151 [==============================] - 11s 70ms/step - loss: 0.1900 - accuracy: 0.9410 - val_loss: 0.0460 - val_accuracy: 0.9838\n",
            "Epoch 18/100\n",
            "151/151 [==============================] - 12s 81ms/step - loss: 0.1852 - accuracy: 0.9427 - val_loss: 0.0493 - val_accuracy: 0.9857\n",
            "Epoch 19/100\n",
            "151/151 [==============================] - 11s 71ms/step - loss: 0.1894 - accuracy: 0.9423 - val_loss: 0.0433 - val_accuracy: 0.9852\n",
            "Epoch 20/100\n",
            "151/151 [==============================] - 11s 72ms/step - loss: 0.1793 - accuracy: 0.9456 - val_loss: 0.0403 - val_accuracy: 0.9874\n",
            "Epoch 21/100\n",
            "151/151 [==============================] - 11s 71ms/step - loss: 0.1806 - accuracy: 0.9451 - val_loss: 0.0464 - val_accuracy: 0.9855\n",
            "Epoch 22/100\n",
            "151/151 [==============================] - 11s 72ms/step - loss: 0.1701 - accuracy: 0.9476 - val_loss: 0.0389 - val_accuracy: 0.9876\n",
            "Epoch 23/100\n",
            "151/151 [==============================] - 11s 71ms/step - loss: 0.1717 - accuracy: 0.9469 - val_loss: 0.0426 - val_accuracy: 0.9874\n",
            "Epoch 24/100\n",
            "151/151 [==============================] - 11s 70ms/step - loss: 0.1691 - accuracy: 0.9480 - val_loss: 0.0423 - val_accuracy: 0.9864\n",
            "Epoch 25/100\n",
            "151/151 [==============================] - 11s 71ms/step - loss: 0.1619 - accuracy: 0.9504 - val_loss: 0.0411 - val_accuracy: 0.9864\n",
            "Epoch 25: early stopping\n"
          ]
        }
      ],
      "source": [
        "# Fit the model\n",
        "history = model_6.fit_generator(datagen.flow(X_train,Y_train, \n",
        "                                           batch_size=batch_size), \n",
        "                              epochs = epochs, \n",
        "                              callbacks = [early_stopping],\n",
        "                              validation_data = (X_val,Y_val),\n",
        "                              steps_per_epoch=X_train.shape[0] // batch_size)"
      ]
    },
    {
      "cell_type": "code",
      "source": [
        "results_visualization(history)"
      ],
      "metadata": {
        "colab": {
          "base_uri": "https://localhost:8080/",
          "height": 350
        },
        "id": "Uod3KlnO0x5T",
        "outputId": "15bd5b6f-540e-4cb8-88af-6b4518c7f4e7"
      },
      "execution_count": null,
      "outputs": [
        {
          "output_type": "display_data",
          "data": {
            "text/plain": [
              "<Figure size 1080x360 with 2 Axes>"
            ],
            "image/png": "[encoded data removed]"
          },
          "metadata": {
            "needs_background": "light"
          }
        }
      ]
    },
    {
      "cell_type": "code",
      "execution_count": null,
      "metadata": {
        "id": "GU7817r0WQS_"
      },
      "outputs": [],
      "source": [
        "# data augmentation\n",
        "datagen = ImageDataGenerator(\n",
        "        featurewise_center=False,  \n",
        "        samplewise_center=False, \n",
        "        featurewise_std_normalization=False,  \n",
        "        samplewise_std_normalization=False,  \n",
        "        zca_whitening=False, \n",
        "        rotation_range=8,  \n",
        "        zoom_range = 0.1,\n",
        "        width_shift_range=0.01,  \n",
        "        height_shift_range=0.01,  \n",
        "        horizontal_flip=False,  \n",
        "        vertical_flip=False)\n",
        "\n",
        "datagen.fit(X_train)"
      ]
    },
    {
      "cell_type": "code",
      "source": [
        "model_7 = model_1()"
      ],
      "metadata": {
        "id": "x4BL05Q-yZku"
      },
      "execution_count": null,
      "outputs": []
    },
    {
      "cell_type": "code",
      "execution_count": null,
      "metadata": {
        "id": "b7WWv7yGycpX"
      },
      "outputs": [],
      "source": [
        "epochs = 100 # for better result increase the epochs\n",
        "batch_size = 250\n",
        "\n",
        "early_stopping = EarlyStopping(verbose=1, patience=3)"
      ]
    },
    {
      "cell_type": "code",
      "execution_count": null,
      "metadata": {
        "colab": {
          "base_uri": "https://localhost:8080/"
        },
        "outputId": "f3ea2054-0845-49d4-ba2f-98dbf109bfab",
        "id": "BeRPu_1SyelS"
      },
      "outputs": [
        {
          "output_type": "stream",
          "name": "stdout",
          "text": [
            "Epoch 1/100\n",
            "151/151 [==============================] - 25s 83ms/step - loss: 0.4120 - accuracy: 0.8676 - val_loss: 0.0943 - val_accuracy: 0.9707\n",
            "Epoch 2/100\n",
            "151/151 [==============================] - 11s 71ms/step - loss: 0.1636 - accuracy: 0.9493 - val_loss: 0.0712 - val_accuracy: 0.9793\n",
            "Epoch 3/100\n",
            "151/151 [==============================] - 14s 90ms/step - loss: 0.1329 - accuracy: 0.9590 - val_loss: 0.0578 - val_accuracy: 0.9819\n",
            "Epoch 4/100\n",
            "151/151 [==============================] - 11s 70ms/step - loss: 0.1139 - accuracy: 0.9649 - val_loss: 0.0535 - val_accuracy: 0.9840\n",
            "Epoch 5/100\n",
            "151/151 [==============================] - 11s 71ms/step - loss: 0.1054 - accuracy: 0.9655 - val_loss: 0.0474 - val_accuracy: 0.9845\n",
            "Epoch 6/100\n",
            "151/151 [==============================] - 10s 68ms/step - loss: 0.0976 - accuracy: 0.9697 - val_loss: 0.0434 - val_accuracy: 0.9864\n",
            "Epoch 7/100\n",
            "151/151 [==============================] - 11s 73ms/step - loss: 0.0968 - accuracy: 0.9700 - val_loss: 0.0409 - val_accuracy: 0.9864\n",
            "Epoch 8/100\n",
            "151/151 [==============================] - 11s 70ms/step - loss: 0.0895 - accuracy: 0.9708 - val_loss: 0.0364 - val_accuracy: 0.9886\n",
            "Epoch 9/100\n",
            "151/151 [==============================] - 11s 72ms/step - loss: 0.0903 - accuracy: 0.9718 - val_loss: 0.0403 - val_accuracy: 0.9881\n",
            "Epoch 10/100\n",
            "151/151 [==============================] - 10s 69ms/step - loss: 0.0782 - accuracy: 0.9753 - val_loss: 0.0405 - val_accuracy: 0.9879\n",
            "Epoch 11/100\n",
            "151/151 [==============================] - 11s 71ms/step - loss: 0.0805 - accuracy: 0.9746 - val_loss: 0.0387 - val_accuracy: 0.9879\n",
            "Epoch 11: early stopping\n"
          ]
        }
      ],
      "source": [
        "# Fit the model\n",
        "history = model_7.fit_generator(datagen.flow(X_train,Y_train, \n",
        "                                           batch_size=batch_size), \n",
        "                              epochs = epochs, \n",
        "                              callbacks = [early_stopping],\n",
        "                              validation_data = (X_val,Y_val),\n",
        "                              steps_per_epoch=X_train.shape[0] // batch_size)"
      ]
    },
    {
      "cell_type": "code",
      "source": [
        "results_visualization(history)"
      ],
      "metadata": {
        "colab": {
          "base_uri": "https://localhost:8080/",
          "height": 350
        },
        "id": "Ug7PgVDR0-8F",
        "outputId": "bd7d83b6-236f-4b13-8ae3-991d280f0621"
      },
      "execution_count": null,
      "outputs": [
        {
          "output_type": "display_data",
          "data": {
            "text/plain": [
              "<Figure size 1080x360 with 2 Axes>"
            ],
            "image/png": "[encoded data removed]"
          },
          "metadata": {
            "needs_background": "light"
          }
        }
      ]
    },
    {
      "cell_type": "markdown",
      "source": [
        "**Task 2.1**"
      ],
      "metadata": {
        "id": "vFvY42901CRa"
      }
    },
    {
      "cell_type": "code",
      "source": [
        "def LetNet_5():\n",
        "    model = Sequential()\n",
        "    model.add(Conv2D(filters=32, kernel_size=(5,5), padding='same',\n",
        "    activation='relu', input_shape=(28, 28, 1)))\n",
        "    model.add(AveragePooling2D(strides=2))\n",
        "    model.add(Conv2D(filters=48, kernel_size=(5,5), padding='valid',\n",
        "    activation='relu'))\n",
        "    model.add(AveragePooling2D(strides=2))\n",
        "    model.add(Flatten())\n",
        "    model.add(Dense(256, activation='relu'))\n",
        "    model.add(Dense(84, activation='relu'))\n",
        "    model.add(Dense(10, activation='softmax'))\n",
        "\n",
        "    model.build()\n",
        "    model.summary()\n",
        "    \n",
        "    adam = Adam(lr=5e-4)\n",
        "    model.compile(loss='categorical_crossentropy', metrics=['accuracy'],\n",
        "    optimizer=adam)\n",
        "    \n",
        "    return model"
      ],
      "metadata": {
        "id": "8uOvjlKw1BiX"
      },
      "execution_count": null,
      "outputs": []
    },
    {
      "cell_type": "code",
      "source": [
        "# Set a learning rate annealer\n",
        "reduce_lr = ReduceLROnPlateau(monitor='val_accuracy',\n",
        "                              patience=3,\n",
        "                              verbose=1,\n",
        "                              factor=0.2,\n",
        "                              min_lr=1e-6)\n",
        "# Data Augmentation\n",
        "datagen = ImageDataGenerator(\n",
        "            rotation_range=10,\n",
        "            width_shift_range=0.1,\n",
        "            height_shift_range=0.1,\n",
        "            zoom_range=0.1)\n",
        "datagen.fit(X_train)"
      ],
      "metadata": {
        "id": "SWEk01zH0_mz"
      },
      "execution_count": null,
      "outputs": []
    },
    {
      "cell_type": "code",
      "source": [
        "model = LetNet_5()"
      ],
      "metadata": {
        "colab": {
          "base_uri": "https://localhost:8080/"
        },
        "id": "ref8quKB4mGM",
        "outputId": "34a8aa42-b21c-47e5-d94f-952517bc3843"
      },
      "execution_count": null,
      "outputs": [
        {
          "output_type": "stream",
          "name": "stdout",
          "text": [
            "Model: \"sequential_15\"\n",
            "_________________________________________________________________\n",
            " Layer (type)                Output Shape              Param #   \n",
            "=================================================================\n",
            " conv2d_50 (Conv2D)          (None, 28, 28, 32)        832       \n",
            "                                                                 \n",
            " average_pooling2d_2 (Averag  (None, 14, 14, 32)       0         \n",
            " ePooling2D)                                                     \n",
            "                                                                 \n",
            " conv2d_51 (Conv2D)          (None, 10, 10, 48)        38448     \n",
            "                                                                 \n",
            " average_pooling2d_3 (Averag  (None, 5, 5, 48)         0         \n",
            " ePooling2D)                                                     \n",
            "                                                                 \n",
            " flatten_11 (Flatten)        (None, 1200)              0         \n",
            "                                                                 \n",
            " dense_23 (Dense)            (None, 256)               307456    \n",
            "                                                                 \n",
            " dense_24 (Dense)            (None, 84)                21588     \n",
            "                                                                 \n",
            " dense_25 (Dense)            (None, 10)                850       \n",
            "                                                                 \n",
            "=================================================================\n",
            "Total params: 369,174\n",
            "Trainable params: 369,174\n",
            "Non-trainable params: 0\n",
            "_________________________________________________________________\n"
          ]
        }
      ]
    },
    {
      "cell_type": "code",
      "source": [
        "history = model.fit_generator(datagen.flow(X_train,Y_train, batch_size=100),\n",
        "steps_per_epoch=len(X_train)/100, epochs=30, validation_data=(X_val,Y_val),\n",
        "callbacks=[reduce_lr])"
      ],
      "metadata": {
        "colab": {
          "base_uri": "https://localhost:8080/"
        },
        "id": "aGa7TMyj4msP",
        "outputId": "e8601f21-f9b2-45f5-bc1a-04c8f8fe9df1"
      },
      "execution_count": null,
      "outputs": [
        {
          "output_type": "stream",
          "name": "stdout",
          "text": [
            "Epoch 1/30\n",
            "378/378 [==============================] - 13s 32ms/step - loss: 0.5817 - accuracy: 0.8165 - val_loss: 0.1464 - val_accuracy: 0.9600 - lr: 5.0000e-04\n",
            "Epoch 2/30\n",
            "378/378 [==============================] - 12s 32ms/step - loss: 0.1778 - accuracy: 0.9469 - val_loss: 0.1175 - val_accuracy: 0.9664 - lr: 5.0000e-04\n",
            "Epoch 3/30\n",
            "378/378 [==============================] - 12s 33ms/step - loss: 0.1393 - accuracy: 0.9576 - val_loss: 0.0791 - val_accuracy: 0.9748 - lr: 5.0000e-04\n",
            "Epoch 4/30\n",
            "378/378 [==============================] - 12s 31ms/step - loss: 0.1123 - accuracy: 0.9660 - val_loss: 0.0870 - val_accuracy: 0.9748 - lr: 5.0000e-04\n",
            "Epoch 5/30\n",
            "378/378 [==============================] - 13s 34ms/step - loss: 0.0940 - accuracy: 0.9710 - val_loss: 0.0731 - val_accuracy: 0.9776 - lr: 5.0000e-04\n",
            "Epoch 6/30\n",
            "378/378 [==============================] - 12s 31ms/step - loss: 0.0861 - accuracy: 0.9747 - val_loss: 0.0568 - val_accuracy: 0.9829 - lr: 5.0000e-04\n",
            "Epoch 7/30\n",
            "378/378 [==============================] - 13s 35ms/step - loss: 0.0737 - accuracy: 0.9772 - val_loss: 0.0486 - val_accuracy: 0.9836 - lr: 5.0000e-04\n",
            "Epoch 8/30\n",
            "378/378 [==============================] - 12s 33ms/step - loss: 0.0677 - accuracy: 0.9792 - val_loss: 0.0502 - val_accuracy: 0.9857 - lr: 5.0000e-04\n",
            "Epoch 9/30\n",
            "378/378 [==============================] - 12s 32ms/step - loss: 0.0629 - accuracy: 0.9806 - val_loss: 0.0469 - val_accuracy: 0.9850 - lr: 5.0000e-04\n",
            "Epoch 10/30\n",
            "378/378 [==============================] - 12s 32ms/step - loss: 0.0603 - accuracy: 0.9825 - val_loss: 0.0326 - val_accuracy: 0.9907 - lr: 5.0000e-04\n",
            "Epoch 11/30\n",
            "378/378 [==============================] - 12s 31ms/step - loss: 0.0517 - accuracy: 0.9840 - val_loss: 0.0321 - val_accuracy: 0.9902 - lr: 5.0000e-04\n",
            "Epoch 12/30\n",
            "378/378 [==============================] - 12s 32ms/step - loss: 0.0497 - accuracy: 0.9850 - val_loss: 0.0358 - val_accuracy: 0.9886 - lr: 5.0000e-04\n",
            "Epoch 13/30\n",
            "378/378 [==============================] - ETA: 0s - loss: 0.0462 - accuracy: 0.9866\n",
            "Epoch 13: ReduceLROnPlateau reducing learning rate to 0.00010000000474974513.\n",
            "378/378 [==============================] - 12s 31ms/step - loss: 0.0462 - accuracy: 0.9866 - val_loss: 0.0306 - val_accuracy: 0.9895 - lr: 5.0000e-04\n",
            "Epoch 14/30\n",
            "378/378 [==============================] - 12s 31ms/step - loss: 0.0338 - accuracy: 0.9899 - val_loss: 0.0241 - val_accuracy: 0.9924 - lr: 1.0000e-04\n",
            "Epoch 15/30\n",
            "378/378 [==============================] - 12s 31ms/step - loss: 0.0314 - accuracy: 0.9908 - val_loss: 0.0262 - val_accuracy: 0.9921 - lr: 1.0000e-04\n",
            "Epoch 16/30\n",
            "378/378 [==============================] - 12s 32ms/step - loss: 0.0281 - accuracy: 0.9915 - val_loss: 0.0250 - val_accuracy: 0.9924 - lr: 1.0000e-04\n",
            "Epoch 17/30\n",
            "377/378 [============================>.] - ETA: 0s - loss: 0.0267 - accuracy: 0.9917\n",
            "Epoch 17: ReduceLROnPlateau reducing learning rate to 2.0000000949949027e-05.\n",
            "378/378 [==============================] - 12s 31ms/step - loss: 0.0266 - accuracy: 0.9917 - val_loss: 0.0236 - val_accuracy: 0.9921 - lr: 1.0000e-04\n",
            "Epoch 18/30\n",
            "378/378 [==============================] - 12s 31ms/step - loss: 0.0249 - accuracy: 0.9925 - val_loss: 0.0229 - val_accuracy: 0.9924 - lr: 2.0000e-05\n",
            "Epoch 19/30\n",
            "378/378 [==============================] - 12s 31ms/step - loss: 0.0259 - accuracy: 0.9919 - val_loss: 0.0226 - val_accuracy: 0.9929 - lr: 2.0000e-05\n",
            "Epoch 20/30\n",
            "378/378 [==============================] - 12s 32ms/step - loss: 0.0250 - accuracy: 0.9924 - val_loss: 0.0228 - val_accuracy: 0.9933 - lr: 2.0000e-05\n",
            "Epoch 21/30\n",
            "378/378 [==============================] - 12s 32ms/step - loss: 0.0258 - accuracy: 0.9918 - val_loss: 0.0224 - val_accuracy: 0.9926 - lr: 2.0000e-05\n",
            "Epoch 22/30\n",
            "378/378 [==============================] - 12s 32ms/step - loss: 0.0238 - accuracy: 0.9929 - val_loss: 0.0229 - val_accuracy: 0.9924 - lr: 2.0000e-05\n",
            "Epoch 23/30\n",
            "377/378 [============================>.] - ETA: 0s - loss: 0.0244 - accuracy: 0.9926\n",
            "Epoch 23: ReduceLROnPlateau reducing learning rate to 4.000000262749381e-06.\n",
            "378/378 [==============================] - 12s 32ms/step - loss: 0.0244 - accuracy: 0.9926 - val_loss: 0.0230 - val_accuracy: 0.9921 - lr: 2.0000e-05\n",
            "Epoch 24/30\n",
            "378/378 [==============================] - 13s 33ms/step - loss: 0.0243 - accuracy: 0.9925 - val_loss: 0.0225 - val_accuracy: 0.9931 - lr: 4.0000e-06\n",
            "Epoch 25/30\n",
            "378/378 [==============================] - 12s 31ms/step - loss: 0.0228 - accuracy: 0.9927 - val_loss: 0.0226 - val_accuracy: 0.9929 - lr: 4.0000e-06\n",
            "Epoch 26/30\n",
            "377/378 [============================>.] - ETA: 0s - loss: 0.0235 - accuracy: 0.9932\n",
            "Epoch 26: ReduceLROnPlateau reducing learning rate to 1e-06.\n",
            "378/378 [==============================] - 12s 31ms/step - loss: 0.0235 - accuracy: 0.9932 - val_loss: 0.0226 - val_accuracy: 0.9929 - lr: 4.0000e-06\n",
            "Epoch 27/30\n",
            "378/378 [==============================] - 12s 32ms/step - loss: 0.0236 - accuracy: 0.9926 - val_loss: 0.0226 - val_accuracy: 0.9929 - lr: 1.0000e-06\n",
            "Epoch 28/30\n",
            "378/378 [==============================] - 12s 32ms/step - loss: 0.0236 - accuracy: 0.9932 - val_loss: 0.0225 - val_accuracy: 0.9929 - lr: 1.0000e-06\n",
            "Epoch 29/30\n",
            "378/378 [==============================] - 12s 31ms/step - loss: 0.0228 - accuracy: 0.9927 - val_loss: 0.0225 - val_accuracy: 0.9929 - lr: 1.0000e-06\n",
            "Epoch 30/30\n",
            "378/378 [==============================] - 12s 32ms/step - loss: 0.0227 - accuracy: 0.9932 - val_loss: 0.0224 - val_accuracy: 0.9929 - lr: 1.0000e-06\n"
          ]
        }
      ]
    },
    {
      "cell_type": "code",
      "source": [
        "results_visualization(history)"
      ],
      "metadata": {
        "colab": {
          "base_uri": "https://localhost:8080/",
          "height": 350
        },
        "id": "LHdpF8v-5Cnw",
        "outputId": "b20becfd-e424-44f7-e589-d7429bdb3ba4"
      },
      "execution_count": null,
      "outputs": [
        {
          "output_type": "display_data",
          "data": {
            "text/plain": [
              "<Figure size 1080x360 with 2 Axes>"
            ],
            "image/png": "[encoded data removed]"
          },
          "metadata": {
            "needs_background": "light"
          }
        }
      ]
    },
    {
      "cell_type": "code",
      "source": [
        "score = model.evaluate(X_val,Y_val, batch_size=32)\n",
        "score"
      ],
      "metadata": {
        "colab": {
          "base_uri": "https://localhost:8080/"
        },
        "id": "pm01eggG5EkV",
        "outputId": "a4b2a3d7-dbb4-4b17-d48d-08eb18622b55"
      },
      "execution_count": null,
      "outputs": [
        {
          "output_type": "stream",
          "name": "stdout",
          "text": [
            "132/132 [==============================] - 0s 3ms/step - loss: 0.0224 - accuracy: 0.9936\n"
          ]
        },
        {
          "output_type": "execute_result",
          "data": {
            "text/plain": [
              "[0.02235940843820572, 0.993571400642395]"
            ]
          },
          "metadata": {},
          "execution_count": 73
        }
      ]
    }
  ],
  "metadata": {
    "colab": {
      "provenance": [],
      "authorship_tag": "ABX9TyPQ5fWuYvTBqqwbAiJValIy",
      "include_colab_link": true
    },
    "kernelspec": {
      "display_name": "Python 3",
      "name": "python3"
    },
    "language_info": {
      "name": "python"
    },
    "accelerator": "GPU",
    "gpuClass": "standard"
  },
  "nbformat": 4,
  "nbformat_minor": 0
}